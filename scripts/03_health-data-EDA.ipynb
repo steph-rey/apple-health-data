{
 "cells": [
  {
   "cell_type": "code",
   "execution_count": 64,
   "id": "8955ffa2-1f59-4ec8-aaae-85151b0451e3",
   "metadata": {},
   "outputs": [],
   "source": [
    "# Import packages\n",
    "\n",
    "import pandas as pd\n",
    "import matplotlib.pyplot as plt\n",
    "import seaborn as sns\n",
    "from datetime import datetime"
   ]
  },
  {
   "cell_type": "code",
   "execution_count": 70,
   "id": "0657e510-6d12-4274-adb9-72edb3eba058",
   "metadata": {},
   "outputs": [
    {
     "data": {
      "text/html": [
       "<div>\n",
       "<style scoped>\n",
       "    .dataframe tbody tr th:only-of-type {\n",
       "        vertical-align: middle;\n",
       "    }\n",
       "\n",
       "    .dataframe tbody tr th {\n",
       "        vertical-align: top;\n",
       "    }\n",
       "\n",
       "    .dataframe thead th {\n",
       "        text-align: right;\n",
       "    }\n",
       "</style>\n",
       "<table border=\"1\" class=\"dataframe\">\n",
       "  <thead>\n",
       "    <tr style=\"text-align: right;\">\n",
       "      <th></th>\n",
       "      <th>type</th>\n",
       "      <th>sourceName</th>\n",
       "      <th>unit</th>\n",
       "      <th>value</th>\n",
       "      <th>startDate</th>\n",
       "      <th>endDate</th>\n",
       "      <th>date</th>\n",
       "      <th>month</th>\n",
       "      <th>year</th>\n",
       "      <th>workout_type</th>\n",
       "    </tr>\n",
       "  </thead>\n",
       "  <tbody>\n",
       "    <tr>\n",
       "      <th>0</th>\n",
       "      <td>HKQuantityTypeIdentifierHeartRate</td>\n",
       "      <td>Stephanie’s Apple Watch</td>\n",
       "      <td>count/min</td>\n",
       "      <td>75.0</td>\n",
       "      <td>2024-11-01 18:52:22-07:00</td>\n",
       "      <td>2024-11-01 18:52:22-07:00</td>\n",
       "      <td>2024-11-01</td>\n",
       "      <td>2024-11</td>\n",
       "      <td>2024</td>\n",
       "      <td>HeartRate</td>\n",
       "    </tr>\n",
       "    <tr>\n",
       "      <th>1</th>\n",
       "      <td>HKQuantityTypeIdentifierHeartRate</td>\n",
       "      <td>Stephanie’s Apple Watch</td>\n",
       "      <td>count/min</td>\n",
       "      <td>73.0</td>\n",
       "      <td>2024-11-01 18:56:25-07:00</td>\n",
       "      <td>2024-11-01 18:56:25-07:00</td>\n",
       "      <td>2024-11-01</td>\n",
       "      <td>2024-11</td>\n",
       "      <td>2024</td>\n",
       "      <td>HeartRate</td>\n",
       "    </tr>\n",
       "    <tr>\n",
       "      <th>2</th>\n",
       "      <td>HKQuantityTypeIdentifierHeartRate</td>\n",
       "      <td>Stephanie’s Apple Watch</td>\n",
       "      <td>count/min</td>\n",
       "      <td>77.0</td>\n",
       "      <td>2024-11-01 19:02:24-07:00</td>\n",
       "      <td>2024-11-01 19:02:24-07:00</td>\n",
       "      <td>2024-11-01</td>\n",
       "      <td>2024-11</td>\n",
       "      <td>2024</td>\n",
       "      <td>HeartRate</td>\n",
       "    </tr>\n",
       "    <tr>\n",
       "      <th>3</th>\n",
       "      <td>HKQuantityTypeIdentifierHeartRate</td>\n",
       "      <td>Stephanie’s Apple Watch</td>\n",
       "      <td>count/min</td>\n",
       "      <td>61.0</td>\n",
       "      <td>2024-11-01 19:08:11-07:00</td>\n",
       "      <td>2024-11-01 19:08:11-07:00</td>\n",
       "      <td>2024-11-01</td>\n",
       "      <td>2024-11</td>\n",
       "      <td>2024</td>\n",
       "      <td>HeartRate</td>\n",
       "    </tr>\n",
       "    <tr>\n",
       "      <th>4</th>\n",
       "      <td>HKQuantityTypeIdentifierHeartRate</td>\n",
       "      <td>Stephanie’s Apple Watch</td>\n",
       "      <td>count/min</td>\n",
       "      <td>64.0</td>\n",
       "      <td>2024-11-01 19:11:48-07:00</td>\n",
       "      <td>2024-11-01 19:11:48-07:00</td>\n",
       "      <td>2024-11-01</td>\n",
       "      <td>2024-11</td>\n",
       "      <td>2024</td>\n",
       "      <td>HeartRate</td>\n",
       "    </tr>\n",
       "  </tbody>\n",
       "</table>\n",
       "</div>"
      ],
      "text/plain": [
       "                                type               sourceName       unit  \\\n",
       "0  HKQuantityTypeIdentifierHeartRate  Stephanie’s Apple Watch  count/min   \n",
       "1  HKQuantityTypeIdentifierHeartRate  Stephanie’s Apple Watch  count/min   \n",
       "2  HKQuantityTypeIdentifierHeartRate  Stephanie’s Apple Watch  count/min   \n",
       "3  HKQuantityTypeIdentifierHeartRate  Stephanie’s Apple Watch  count/min   \n",
       "4  HKQuantityTypeIdentifierHeartRate  Stephanie’s Apple Watch  count/min   \n",
       "\n",
       "   value                  startDate                    endDate        date  \\\n",
       "0   75.0  2024-11-01 18:52:22-07:00  2024-11-01 18:52:22-07:00  2024-11-01   \n",
       "1   73.0  2024-11-01 18:56:25-07:00  2024-11-01 18:56:25-07:00  2024-11-01   \n",
       "2   77.0  2024-11-01 19:02:24-07:00  2024-11-01 19:02:24-07:00  2024-11-01   \n",
       "3   61.0  2024-11-01 19:08:11-07:00  2024-11-01 19:08:11-07:00  2024-11-01   \n",
       "4   64.0  2024-11-01 19:11:48-07:00  2024-11-01 19:11:48-07:00  2024-11-01   \n",
       "\n",
       "     month  year workout_type  \n",
       "0  2024-11  2024    HeartRate  \n",
       "1  2024-11  2024    HeartRate  \n",
       "2  2024-11  2024    HeartRate  \n",
       "3  2024-11  2024    HeartRate  \n",
       "4  2024-11  2024    HeartRate  "
      ]
     },
     "execution_count": 70,
     "metadata": {},
     "output_type": "execute_result"
    }
   ],
   "source": [
    "# Load and preview dataset\n",
    "\n",
    "df_raw = pd.read_csv('/Users/steph/anaconda_projects/apple-health-data/cleaned-data/apl_watch_data_raw.csv')\n",
    "df_raw.head()"
   ]
  },
  {
   "cell_type": "code",
   "execution_count": 72,
   "id": "ef8686f3-f0da-43b3-adf7-8668a4a81a44",
   "metadata": {},
   "outputs": [
    {
     "data": {
      "text/html": [
       "<div>\n",
       "<style scoped>\n",
       "    .dataframe tbody tr th:only-of-type {\n",
       "        vertical-align: middle;\n",
       "    }\n",
       "\n",
       "    .dataframe tbody tr th {\n",
       "        vertical-align: top;\n",
       "    }\n",
       "\n",
       "    .dataframe thead th {\n",
       "        text-align: right;\n",
       "    }\n",
       "</style>\n",
       "<table border=\"1\" class=\"dataframe\">\n",
       "  <thead>\n",
       "    <tr style=\"text-align: right;\">\n",
       "      <th></th>\n",
       "      <th>dtype</th>\n",
       "      <th>nulls</th>\n",
       "      <th>unique_values</th>\n",
       "      <th>sample_values</th>\n",
       "    </tr>\n",
       "  </thead>\n",
       "  <tbody>\n",
       "    <tr>\n",
       "      <th>type</th>\n",
       "      <td>object</td>\n",
       "      <td>0</td>\n",
       "      <td>31</td>\n",
       "      <td>HKQuantityTypeIdentifierHeartRate, HKQuantityT...</td>\n",
       "    </tr>\n",
       "    <tr>\n",
       "      <th>sourceName</th>\n",
       "      <td>object</td>\n",
       "      <td>0</td>\n",
       "      <td>1</td>\n",
       "      <td>Stephanie’s Apple Watch</td>\n",
       "    </tr>\n",
       "    <tr>\n",
       "      <th>unit</th>\n",
       "      <td>object</td>\n",
       "      <td>0</td>\n",
       "      <td>16</td>\n",
       "      <td>count/min, %, count</td>\n",
       "    </tr>\n",
       "    <tr>\n",
       "      <th>value</th>\n",
       "      <td>float64</td>\n",
       "      <td>0</td>\n",
       "      <td>528265</td>\n",
       "      <td>75.0, 73.0, 77.0</td>\n",
       "    </tr>\n",
       "    <tr>\n",
       "      <th>startDate</th>\n",
       "      <td>object</td>\n",
       "      <td>0</td>\n",
       "      <td>5673503</td>\n",
       "      <td>2024-11-01 18:52:22-07:00, 2024-11-01 18:56:25...</td>\n",
       "    </tr>\n",
       "    <tr>\n",
       "      <th>endDate</th>\n",
       "      <td>object</td>\n",
       "      <td>0</td>\n",
       "      <td>5668081</td>\n",
       "      <td>2024-11-01 18:52:22-07:00, 2024-11-01 18:56:25...</td>\n",
       "    </tr>\n",
       "    <tr>\n",
       "      <th>date</th>\n",
       "      <td>object</td>\n",
       "      <td>0</td>\n",
       "      <td>2400</td>\n",
       "      <td>2024-11-01, 2024-11-02, 2024-11-03</td>\n",
       "    </tr>\n",
       "    <tr>\n",
       "      <th>month</th>\n",
       "      <td>object</td>\n",
       "      <td>0</td>\n",
       "      <td>80</td>\n",
       "      <td>2024-11, 2024-12, 2025-01</td>\n",
       "    </tr>\n",
       "    <tr>\n",
       "      <th>year</th>\n",
       "      <td>int64</td>\n",
       "      <td>0</td>\n",
       "      <td>8</td>\n",
       "      <td>2024, 2025, 2023</td>\n",
       "    </tr>\n",
       "    <tr>\n",
       "      <th>workout_type</th>\n",
       "      <td>object</td>\n",
       "      <td>0</td>\n",
       "      <td>31</td>\n",
       "      <td>HeartRate, OxygenSaturation, RespiratoryRate</td>\n",
       "    </tr>\n",
       "  </tbody>\n",
       "</table>\n",
       "</div>"
      ],
      "text/plain": [
       "                dtype  nulls  unique_values  \\\n",
       "type           object      0             31   \n",
       "sourceName     object      0              1   \n",
       "unit           object      0             16   \n",
       "value         float64      0         528265   \n",
       "startDate      object      0        5673503   \n",
       "endDate        object      0        5668081   \n",
       "date           object      0           2400   \n",
       "month          object      0             80   \n",
       "year            int64      0              8   \n",
       "workout_type   object      0             31   \n",
       "\n",
       "                                                  sample_values  \n",
       "type          HKQuantityTypeIdentifierHeartRate, HKQuantityT...  \n",
       "sourceName                              Stephanie’s Apple Watch  \n",
       "unit                                        count/min, %, count  \n",
       "value                                          75.0, 73.0, 77.0  \n",
       "startDate     2024-11-01 18:52:22-07:00, 2024-11-01 18:56:25...  \n",
       "endDate       2024-11-01 18:52:22-07:00, 2024-11-01 18:56:25...  \n",
       "date                         2024-11-01, 2024-11-02, 2024-11-03  \n",
       "month                                 2024-11, 2024-12, 2025-01  \n",
       "year                                           2024, 2025, 2023  \n",
       "workout_type       HeartRate, OxygenSaturation, RespiratoryRate  "
      ]
     },
     "execution_count": 72,
     "metadata": {},
     "output_type": "execute_result"
    }
   ],
   "source": [
    "# Summarize all columns and metadata \n",
    "\n",
    "def summarize_metadata(df):\n",
    "    summary = pd.DataFrame({\n",
    "        'dtype': df.dtypes,\n",
    "        'nulls': df.isnull().sum(),\n",
    "        'unique_values': df.nunique(),\n",
    "        'sample_values': df.apply(lambda x: \", \".join(map(str, x.dropna().unique()[:3])))\n",
    "    })\n",
    "    return summary\n",
    "\n",
    "metadata_summary = summarize_metadata(df_raw)\n",
    "metadata_summary"
   ]
  },
  {
   "cell_type": "code",
   "execution_count": 73,
   "id": "f3a52fd8-c59d-40ec-9a1d-2428aa1cc3ba",
   "metadata": {},
   "outputs": [
    {
     "name": "stdout",
     "output_type": "stream",
     "text": [
      "\n",
      "📌 Column: 'type'\n",
      "Unique values (31):\n",
      "['HKQuantityTypeIdentifierHeartRate'\n",
      " 'HKQuantityTypeIdentifierOxygenSaturation'\n",
      " 'HKQuantityTypeIdentifierRespiratoryRate'\n",
      " 'HKQuantityTypeIdentifierStepCount'\n",
      " 'HKQuantityTypeIdentifierDistanceWalkingRunning'\n",
      " 'HKQuantityTypeIdentifierBasalEnergyBurned'\n",
      " 'HKQuantityTypeIdentifierActiveEnergyBurned'\n",
      " 'HKQuantityTypeIdentifierFlightsClimbed'\n",
      " 'HKQuantityTypeIdentifierAppleExerciseTime'\n",
      " 'HKQuantityTypeIdentifierDistanceCycling'\n",
      " 'HKQuantityTypeIdentifierDistanceSwimming'\n",
      " 'HKQuantityTypeIdentifierSwimmingStrokeCount'\n",
      " 'HKQuantityTypeIdentifierRestingHeartRate'\n",
      " 'HKQuantityTypeIdentifierVO2Max'\n",
      " 'HKQuantityTypeIdentifierWalkingHeartRateAverage'\n",
      " 'HKQuantityTypeIdentifierEnvironmentalAudioExposure'\n",
      " 'HKQuantityTypeIdentifierHeadphoneAudioExposure'\n",
      " 'HKQuantityTypeIdentifierAppleStandTime'\n",
      " 'HKQuantityTypeIdentifierStairAscentSpeed'\n",
      " 'HKQuantityTypeIdentifierStairDescentSpeed'\n",
      " 'HKQuantityTypeIdentifierAppleSleepingWristTemperature'\n",
      " 'HKQuantityTypeIdentifierRunningStrideLength'\n",
      " 'HKQuantityTypeIdentifierRunningVerticalOscillation'\n",
      " 'HKQuantityTypeIdentifierRunningGroundContactTime'\n",
      " 'HKQuantityTypeIdentifierHeartRateRecoveryOneMinute'\n",
      " 'HKQuantityTypeIdentifierRunningPower'\n",
      " 'HKQuantityTypeIdentifierEnvironmentalSoundReduction'\n",
      " 'HKQuantityTypeIdentifierRunningSpeed'\n",
      " 'HKQuantityTypeIdentifierTimeInDaylight'\n",
      " 'HKQuantityTypeIdentifierPhysicalEffort'\n",
      " 'HKQuantityTypeIdentifierHeartRateVariabilitySDNN']\n",
      "\n",
      "📌 Column: 'sourceName'\n",
      "Unique values (1):\n",
      "['Stephanie’s Apple\\xa0Watch']\n",
      "\n",
      "📌 Column: 'unit'\n",
      "Unique values (16):\n",
      "['count/min' '%' 'count' 'mi' 'Cal' 'min' 'm' 'mL/min·kg' 'dBASPL' 'ft/s'\n",
      " 'degF' 'cm' 'ms' 'W' 'mi/hr' 'kcal/hr·kg']\n",
      "\n",
      "📌 Column: 'value'\n",
      "Unique values (528265):\n",
      "[75.     73.     77.     ... 50.5378 65.3145 25.0874]\n",
      "\n",
      "📌 Column: 'startDate'\n",
      "Unique values (5673503):\n",
      "['2024-11-01 18:52:22-07:00' '2024-11-01 18:56:25-07:00'\n",
      " '2024-11-01 19:02:24-07:00' ... '2024-07-20 22:00:30-07:00'\n",
      " '2024-12-03 20:53:16-07:00' '2025-04-02 19:48:35-07:00']\n",
      "\n",
      "📌 Column: 'endDate'\n",
      "Unique values (5668081):\n",
      "['2024-11-01 18:52:22-07:00' '2024-11-01 18:56:25-07:00'\n",
      " '2024-11-01 19:02:24-07:00' ... '2025-04-18 11:09:25-07:00'\n",
      " '2025-04-18 11:50:23-07:00' '2025-04-18 12:57:20-07:00']\n",
      "\n",
      "📌 Column: 'date'\n",
      "Unique values (2400):\n",
      "['2024-11-01' '2024-11-02' '2024-11-03' ... '2025-04-16' '2025-04-17'\n",
      " '2025-04-18']\n",
      "\n",
      "📌 Column: 'month'\n",
      "Unique values (80):\n",
      "['2024-11' '2024-12' '2025-01' '2025-02' '2024-10' '2024-05' '2024-06'\n",
      " '2024-07' '2024-08' '2024-09' '2023-11' '2023-12' '2024-01' '2024-02'\n",
      " '2024-03' '2024-04' '2023-05' '2023-06' '2023-07' '2023-08' '2023-09'\n",
      " '2023-10' '2022-11' '2022-12' '2023-01' '2023-02' '2023-03' '2023-04'\n",
      " '2022-05' '2022-06' '2022-07' '2022-08' '2022-09' '2022-10' '2021-11'\n",
      " '2021-12' '2022-01' '2022-02' '2022-03' '2022-04' '2021-07' '2021-08'\n",
      " '2021-09' '2021-06' '2021-10' '2020-12' '2021-01' '2021-02' '2021-03'\n",
      " '2021-04' '2021-05' '2020-06' '2020-07' '2020-08' '2020-09' '2020-10'\n",
      " '2020-11' '2019-12' '2020-01' '2020-02' '2020-03' '2020-04' '2020-05'\n",
      " '2018-12' '2019-01' '2019-02' '2019-03' '2019-04' '2019-05' '2018-09'\n",
      " '2018-10' '2018-11' '2019-06' '2019-07' '2019-08' '2019-09' '2019-10'\n",
      " '2019-11' '2025-03' '2025-04']\n",
      "\n",
      "📌 Column: 'year'\n",
      "Unique values (8):\n",
      "[2024 2025 2023 2022 2021 2020 2019 2018]\n",
      "\n",
      "📌 Column: 'workout_type'\n",
      "Unique values (31):\n",
      "['HeartRate' 'OxygenSaturation' 'RespiratoryRate' 'StepCount'\n",
      " 'DistanceWalkingRunning' 'BasalEnergyBurned' 'ActiveEnergyBurned'\n",
      " 'FlightsClimbed' 'AppleExerciseTime' 'DistanceCycling' 'DistanceSwimming'\n",
      " 'SwimmingStrokeCount' 'RestingHeartRate' 'VO2Max'\n",
      " 'WalkingHeartRateAverage' 'EnvironmentalAudioExposure'\n",
      " 'HeadphoneAudioExposure' 'AppleStandTime' 'StairAscentSpeed'\n",
      " 'StairDescentSpeed' 'AppleSleepingWristTemperature' 'RunningStrideLength'\n",
      " 'RunningVerticalOscillation' 'RunningGroundContactTime'\n",
      " 'HeartRateRecoveryOneMinute' 'RunningPower' 'EnvironmentalSoundReduction'\n",
      " 'RunningSpeed' 'TimeInDaylight' 'PhysicalEffort'\n",
      " 'HeartRateVariabilitySDNN']\n"
     ]
    }
   ],
   "source": [
    "for col in df_raw.columns:\n",
    "    print(f\"\\n📌 Column: '{col}'\")\n",
    "    unique_vals = df_raw[col].dropna().unique()\n",
    "    print(f\"Unique values ({len(unique_vals)}):\")\n",
    "    print(unique_vals)\n",
    "    unique_vals = sorted(df_raw[col].dropna().unique())"
   ]
  },
  {
   "cell_type": "code",
   "execution_count": 74,
   "id": "ec8b1319-fffa-4911-b997-c424ca0e3e9e",
   "metadata": {},
   "outputs": [],
   "source": [
    "df = df_raw.copy()"
   ]
  },
  {
   "cell_type": "code",
   "execution_count": 78,
   "id": "0c4786ab-93bf-4386-81de-b3db77f46414",
   "metadata": {},
   "outputs": [
    {
     "data": {
      "text/plain": [
       "0          0.000000\n",
       "1          0.000000\n",
       "2          0.000000\n",
       "3          0.000000\n",
       "4          0.000000\n",
       "             ...   \n",
       "8157673    1.000000\n",
       "8157674    1.000000\n",
       "8157675    1.000000\n",
       "8157676    0.966667\n",
       "8157677    0.983333\n",
       "Name: duration_min, Length: 8157678, dtype: float64"
      ]
     },
     "execution_count": 78,
     "metadata": {},
     "output_type": "execute_result"
    }
   ],
   "source": [
    "# Add column for duration in minutes\n",
    "# Ensure datetime conversion\n",
    "df['startDate'] = pd.to_datetime(df['startDate'])\n",
    "df['endDate'] = pd.to_datetime(df['endDate'])\n",
    "\n",
    "# Now calculate duration in minutes\n",
    "df['duration_min'] = (df['endDate'] - df['startDate']).dt.total_seconds() / 60\n",
    "df['duration_min']"
   ]
  },
  {
   "cell_type": "code",
   "execution_count": 79,
   "id": "1a0049d1-1898-4447-a3e5-21995690251a",
   "metadata": {},
   "outputs": [],
   "source": [
    "# Drop unnecessary cols\n",
    "df = df.drop(['type', 'sourceName'], axis=1)"
   ]
  },
  {
   "cell_type": "code",
   "execution_count": 80,
   "id": "7e3702e1-8d26-41a9-9be1-798ca49f3435",
   "metadata": {},
   "outputs": [],
   "source": [
    "df = df.rename(columns = {\n",
    "    'startDate': 'start_datetime',\n",
    "    'endDate': 'end_datetime',\n",
    "    'workout_type': 'metric'\n",
    "})"
   ]
  },
  {
   "cell_type": "code",
   "execution_count": 81,
   "id": "9e076848-805a-4d4c-b32d-fc4af4cc8a32",
   "metadata": {},
   "outputs": [],
   "source": [
    "# Filter for macros and create df\n",
    "distance_df = df[df['metric'] == 'DistanceWalkingRunning']"
   ]
  },
  {
   "cell_type": "code",
   "execution_count": 82,
   "id": "4ad55896-f39f-42f1-a5d1-0ce4f92814e9",
   "metadata": {},
   "outputs": [
    {
     "data": {
      "text/html": [
       "<div>\n",
       "<style scoped>\n",
       "    .dataframe tbody tr th:only-of-type {\n",
       "        vertical-align: middle;\n",
       "    }\n",
       "\n",
       "    .dataframe tbody tr th {\n",
       "        vertical-align: top;\n",
       "    }\n",
       "\n",
       "    .dataframe thead th {\n",
       "        text-align: right;\n",
       "    }\n",
       "</style>\n",
       "<table border=\"1\" class=\"dataframe\">\n",
       "  <thead>\n",
       "    <tr style=\"text-align: right;\">\n",
       "      <th></th>\n",
       "      <th>unit</th>\n",
       "      <th>value</th>\n",
       "      <th>start_datetime</th>\n",
       "      <th>end_datetime</th>\n",
       "      <th>date</th>\n",
       "      <th>month</th>\n",
       "      <th>year</th>\n",
       "      <th>metric</th>\n",
       "      <th>duration_min</th>\n",
       "    </tr>\n",
       "  </thead>\n",
       "  <tbody>\n",
       "    <tr>\n",
       "      <th>1794464</th>\n",
       "      <td>mi</td>\n",
       "      <td>0.026490</td>\n",
       "      <td>2025-02-03 19:25:48-07:00</td>\n",
       "      <td>2025-02-03 19:34:09-07:00</td>\n",
       "      <td>2025-02-03</td>\n",
       "      <td>2025-02</td>\n",
       "      <td>2025</td>\n",
       "      <td>DistanceWalkingRunning</td>\n",
       "      <td>8.350000</td>\n",
       "    </tr>\n",
       "    <tr>\n",
       "      <th>1794465</th>\n",
       "      <td>mi</td>\n",
       "      <td>0.019369</td>\n",
       "      <td>2025-02-03 19:36:21-07:00</td>\n",
       "      <td>2025-02-03 19:41:02-07:00</td>\n",
       "      <td>2025-02-03</td>\n",
       "      <td>2025-02</td>\n",
       "      <td>2025</td>\n",
       "      <td>DistanceWalkingRunning</td>\n",
       "      <td>4.683333</td>\n",
       "    </tr>\n",
       "    <tr>\n",
       "      <th>1794466</th>\n",
       "      <td>mi</td>\n",
       "      <td>0.052942</td>\n",
       "      <td>2025-02-03 19:51:54-07:00</td>\n",
       "      <td>2025-02-03 20:00:56-07:00</td>\n",
       "      <td>2025-02-03</td>\n",
       "      <td>2025-02</td>\n",
       "      <td>2025</td>\n",
       "      <td>DistanceWalkingRunning</td>\n",
       "      <td>9.033333</td>\n",
       "    </tr>\n",
       "    <tr>\n",
       "      <th>1794467</th>\n",
       "      <td>mi</td>\n",
       "      <td>0.051026</td>\n",
       "      <td>2025-02-03 20:05:16-07:00</td>\n",
       "      <td>2025-02-03 20:14:28-07:00</td>\n",
       "      <td>2025-02-03</td>\n",
       "      <td>2025-02</td>\n",
       "      <td>2025</td>\n",
       "      <td>DistanceWalkingRunning</td>\n",
       "      <td>9.200000</td>\n",
       "    </tr>\n",
       "    <tr>\n",
       "      <th>1794468</th>\n",
       "      <td>mi</td>\n",
       "      <td>0.005435</td>\n",
       "      <td>2025-02-03 20:26:08-07:00</td>\n",
       "      <td>2025-02-03 20:26:13-07:00</td>\n",
       "      <td>2025-02-03</td>\n",
       "      <td>2025-02</td>\n",
       "      <td>2025</td>\n",
       "      <td>DistanceWalkingRunning</td>\n",
       "      <td>0.083333</td>\n",
       "    </tr>\n",
       "    <tr>\n",
       "      <th>...</th>\n",
       "      <td>...</td>\n",
       "      <td>...</td>\n",
       "      <td>...</td>\n",
       "      <td>...</td>\n",
       "      <td>...</td>\n",
       "      <td>...</td>\n",
       "      <td>...</td>\n",
       "      <td>...</td>\n",
       "      <td>...</td>\n",
       "    </tr>\n",
       "    <tr>\n",
       "      <th>2488508</th>\n",
       "      <td>mi</td>\n",
       "      <td>0.010445</td>\n",
       "      <td>2025-04-18 12:42:22-07:00</td>\n",
       "      <td>2025-04-18 12:42:37-07:00</td>\n",
       "      <td>2025-04-18</td>\n",
       "      <td>2025-04</td>\n",
       "      <td>2025</td>\n",
       "      <td>DistanceWalkingRunning</td>\n",
       "      <td>0.250000</td>\n",
       "    </tr>\n",
       "    <tr>\n",
       "      <th>2488509</th>\n",
       "      <td>mi</td>\n",
       "      <td>0.002090</td>\n",
       "      <td>2025-04-18 12:42:37-07:00</td>\n",
       "      <td>2025-04-18 12:42:39-07:00</td>\n",
       "      <td>2025-04-18</td>\n",
       "      <td>2025-04</td>\n",
       "      <td>2025</td>\n",
       "      <td>DistanceWalkingRunning</td>\n",
       "      <td>0.033333</td>\n",
       "    </tr>\n",
       "    <tr>\n",
       "      <th>2488510</th>\n",
       "      <td>mi</td>\n",
       "      <td>0.005435</td>\n",
       "      <td>2025-04-18 12:42:39-07:00</td>\n",
       "      <td>2025-04-18 12:43:38-07:00</td>\n",
       "      <td>2025-04-18</td>\n",
       "      <td>2025-04</td>\n",
       "      <td>2025</td>\n",
       "      <td>DistanceWalkingRunning</td>\n",
       "      <td>0.983333</td>\n",
       "    </tr>\n",
       "    <tr>\n",
       "      <th>2488511</th>\n",
       "      <td>mi</td>\n",
       "      <td>0.014493</td>\n",
       "      <td>2025-04-18 12:45:08-07:00</td>\n",
       "      <td>2025-04-18 12:48:09-07:00</td>\n",
       "      <td>2025-04-18</td>\n",
       "      <td>2025-04</td>\n",
       "      <td>2025</td>\n",
       "      <td>DistanceWalkingRunning</td>\n",
       "      <td>3.016667</td>\n",
       "    </tr>\n",
       "    <tr>\n",
       "      <th>2488512</th>\n",
       "      <td>mi</td>\n",
       "      <td>0.018372</td>\n",
       "      <td>2025-04-18 13:09:37-07:00</td>\n",
       "      <td>2025-04-18 13:14:59-07:00</td>\n",
       "      <td>2025-04-18</td>\n",
       "      <td>2025-04</td>\n",
       "      <td>2025</td>\n",
       "      <td>DistanceWalkingRunning</td>\n",
       "      <td>5.366667</td>\n",
       "    </tr>\n",
       "  </tbody>\n",
       "</table>\n",
       "<p>694049 rows × 9 columns</p>\n",
       "</div>"
      ],
      "text/plain": [
       "        unit     value            start_datetime              end_datetime  \\\n",
       "1794464   mi  0.026490 2025-02-03 19:25:48-07:00 2025-02-03 19:34:09-07:00   \n",
       "1794465   mi  0.019369 2025-02-03 19:36:21-07:00 2025-02-03 19:41:02-07:00   \n",
       "1794466   mi  0.052942 2025-02-03 19:51:54-07:00 2025-02-03 20:00:56-07:00   \n",
       "1794467   mi  0.051026 2025-02-03 20:05:16-07:00 2025-02-03 20:14:28-07:00   \n",
       "1794468   mi  0.005435 2025-02-03 20:26:08-07:00 2025-02-03 20:26:13-07:00   \n",
       "...      ...       ...                       ...                       ...   \n",
       "2488508   mi  0.010445 2025-04-18 12:42:22-07:00 2025-04-18 12:42:37-07:00   \n",
       "2488509   mi  0.002090 2025-04-18 12:42:37-07:00 2025-04-18 12:42:39-07:00   \n",
       "2488510   mi  0.005435 2025-04-18 12:42:39-07:00 2025-04-18 12:43:38-07:00   \n",
       "2488511   mi  0.014493 2025-04-18 12:45:08-07:00 2025-04-18 12:48:09-07:00   \n",
       "2488512   mi  0.018372 2025-04-18 13:09:37-07:00 2025-04-18 13:14:59-07:00   \n",
       "\n",
       "               date    month  year                  metric  duration_min  \n",
       "1794464  2025-02-03  2025-02  2025  DistanceWalkingRunning      8.350000  \n",
       "1794465  2025-02-03  2025-02  2025  DistanceWalkingRunning      4.683333  \n",
       "1794466  2025-02-03  2025-02  2025  DistanceWalkingRunning      9.033333  \n",
       "1794467  2025-02-03  2025-02  2025  DistanceWalkingRunning      9.200000  \n",
       "1794468  2025-02-03  2025-02  2025  DistanceWalkingRunning      0.083333  \n",
       "...             ...      ...   ...                     ...           ...  \n",
       "2488508  2025-04-18  2025-04  2025  DistanceWalkingRunning      0.250000  \n",
       "2488509  2025-04-18  2025-04  2025  DistanceWalkingRunning      0.033333  \n",
       "2488510  2025-04-18  2025-04  2025  DistanceWalkingRunning      0.983333  \n",
       "2488511  2025-04-18  2025-04  2025  DistanceWalkingRunning      3.016667  \n",
       "2488512  2025-04-18  2025-04  2025  DistanceWalkingRunning      5.366667  \n",
       "\n",
       "[694049 rows x 9 columns]"
      ]
     },
     "execution_count": 82,
     "metadata": {},
     "output_type": "execute_result"
    }
   ],
   "source": [
    "distance_df"
   ]
  },
  {
   "cell_type": "code",
   "execution_count": 100,
   "id": "d11b5b7c-4b9d-4155-a12a-fe587b3303c9",
   "metadata": {},
   "outputs": [],
   "source": [
    "distance_daily = distance_df.groupby('date')['value'].sum().reset_index()\n",
    "\n",
    "# Ensure 'date' is datetime\n",
    "distance_daily['date'] = pd.to_datetime(distance_daily['date'])\n",
    "\n",
    "# Define the cutoff for 1 year ago from today\n",
    "one_year_ago = pd.Timestamp.today() - pd.DateOffset(years=1)\n",
    "\n",
    "# Filter the DataFrame\n",
    "distance_daily = distance_daily[distance_daily['date'] >= one_year_ago].copy().sort_values(by='date', ascending=False)\n",
    "distance_daily['value'] = distance_daily['value'].round(2)"
   ]
  },
  {
   "cell_type": "code",
   "execution_count": 102,
   "id": "334e60cb-c902-421b-8802-b63c75f291e5",
   "metadata": {},
   "outputs": [
    {
     "data": {
      "text/html": [
       "<div>\n",
       "<style scoped>\n",
       "    .dataframe tbody tr th:only-of-type {\n",
       "        vertical-align: middle;\n",
       "    }\n",
       "\n",
       "    .dataframe tbody tr th {\n",
       "        vertical-align: top;\n",
       "    }\n",
       "\n",
       "    .dataframe thead th {\n",
       "        text-align: right;\n",
       "    }\n",
       "</style>\n",
       "<table border=\"1\" class=\"dataframe\">\n",
       "  <thead>\n",
       "    <tr style=\"text-align: right;\">\n",
       "      <th></th>\n",
       "      <th>date</th>\n",
       "      <th>value</th>\n",
       "    </tr>\n",
       "  </thead>\n",
       "  <tbody>\n",
       "    <tr>\n",
       "      <th>2399</th>\n",
       "      <td>2025-04-18</td>\n",
       "      <td>1.41</td>\n",
       "    </tr>\n",
       "    <tr>\n",
       "      <th>2398</th>\n",
       "      <td>2025-04-17</td>\n",
       "      <td>5.97</td>\n",
       "    </tr>\n",
       "    <tr>\n",
       "      <th>2397</th>\n",
       "      <td>2025-04-16</td>\n",
       "      <td>6.27</td>\n",
       "    </tr>\n",
       "    <tr>\n",
       "      <th>2396</th>\n",
       "      <td>2025-04-15</td>\n",
       "      <td>3.53</td>\n",
       "    </tr>\n",
       "    <tr>\n",
       "      <th>2395</th>\n",
       "      <td>2025-04-14</td>\n",
       "      <td>6.32</td>\n",
       "    </tr>\n",
       "    <tr>\n",
       "      <th>...</th>\n",
       "      <td>...</td>\n",
       "      <td>...</td>\n",
       "    </tr>\n",
       "    <tr>\n",
       "      <th>2039</th>\n",
       "      <td>2024-04-23</td>\n",
       "      <td>2.56</td>\n",
       "    </tr>\n",
       "    <tr>\n",
       "      <th>2038</th>\n",
       "      <td>2024-04-22</td>\n",
       "      <td>2.38</td>\n",
       "    </tr>\n",
       "    <tr>\n",
       "      <th>2037</th>\n",
       "      <td>2024-04-21</td>\n",
       "      <td>3.08</td>\n",
       "    </tr>\n",
       "    <tr>\n",
       "      <th>2036</th>\n",
       "      <td>2024-04-20</td>\n",
       "      <td>3.37</td>\n",
       "    </tr>\n",
       "    <tr>\n",
       "      <th>2035</th>\n",
       "      <td>2024-04-19</td>\n",
       "      <td>2.99</td>\n",
       "    </tr>\n",
       "  </tbody>\n",
       "</table>\n",
       "<p>365 rows × 2 columns</p>\n",
       "</div>"
      ],
      "text/plain": [
       "           date  value\n",
       "2399 2025-04-18   1.41\n",
       "2398 2025-04-17   5.97\n",
       "2397 2025-04-16   6.27\n",
       "2396 2025-04-15   3.53\n",
       "2395 2025-04-14   6.32\n",
       "...         ...    ...\n",
       "2039 2024-04-23   2.56\n",
       "2038 2024-04-22   2.38\n",
       "2037 2024-04-21   3.08\n",
       "2036 2024-04-20   3.37\n",
       "2035 2024-04-19   2.99\n",
       "\n",
       "[365 rows x 2 columns]"
      ]
     },
     "execution_count": 102,
     "metadata": {},
     "output_type": "execute_result"
    }
   ],
   "source": [
    "distance_daily"
   ]
  },
  {
   "cell_type": "code",
   "execution_count": 104,
   "id": "97a3755c-80d3-42ae-8fed-b5ae4b081949",
   "metadata": {},
   "outputs": [
    {
     "data": {
      "application/vnd.plotly.v1+json": {
       "config": {
        "plotlyServerURL": "https://plot.ly"
       },
       "data": [
        {
         "name": "DistanceWalkingRunning",
         "type": "bar",
         "x": [
          "2025-04-18T00:00:00",
          "2025-04-17T00:00:00",
          "2025-04-16T00:00:00",
          "2025-04-15T00:00:00",
          "2025-04-14T00:00:00",
          "2025-04-13T00:00:00",
          "2025-04-12T00:00:00",
          "2025-04-11T00:00:00",
          "2025-04-10T00:00:00",
          "2025-04-09T00:00:00",
          "2025-04-08T00:00:00",
          "2025-04-07T00:00:00",
          "2025-04-06T00:00:00",
          "2025-04-05T00:00:00",
          "2025-04-04T00:00:00",
          "2025-04-03T00:00:00",
          "2025-04-02T00:00:00",
          "2025-04-01T00:00:00",
          "2025-03-31T00:00:00",
          "2025-03-30T00:00:00",
          "2025-03-29T00:00:00",
          "2025-03-28T00:00:00",
          "2025-03-27T00:00:00",
          "2025-03-26T00:00:00",
          "2025-03-25T00:00:00",
          "2025-03-24T00:00:00",
          "2025-03-23T00:00:00",
          "2025-03-22T00:00:00",
          "2025-03-21T00:00:00",
          "2025-03-20T00:00:00",
          "2025-03-19T00:00:00",
          "2025-03-18T00:00:00",
          "2025-03-17T00:00:00",
          "2025-03-16T00:00:00",
          "2025-03-15T00:00:00",
          "2025-03-14T00:00:00",
          "2025-03-13T00:00:00",
          "2025-03-12T00:00:00",
          "2025-03-11T00:00:00",
          "2025-03-10T00:00:00",
          "2025-03-09T00:00:00",
          "2025-03-08T00:00:00",
          "2025-03-07T00:00:00",
          "2025-03-06T00:00:00",
          "2025-03-05T00:00:00",
          "2025-03-04T00:00:00",
          "2025-03-03T00:00:00",
          "2025-03-02T00:00:00",
          "2025-03-01T00:00:00",
          "2025-02-28T00:00:00",
          "2025-02-27T00:00:00",
          "2025-02-26T00:00:00",
          "2025-02-25T00:00:00",
          "2025-02-24T00:00:00",
          "2025-02-23T00:00:00",
          "2025-02-22T00:00:00",
          "2025-02-21T00:00:00",
          "2025-02-20T00:00:00",
          "2025-02-19T00:00:00",
          "2025-02-18T00:00:00",
          "2025-02-17T00:00:00",
          "2025-02-16T00:00:00",
          "2025-02-15T00:00:00",
          "2025-02-14T00:00:00",
          "2025-02-13T00:00:00",
          "2025-02-12T00:00:00",
          "2025-02-11T00:00:00",
          "2025-02-10T00:00:00",
          "2025-02-09T00:00:00",
          "2025-02-08T00:00:00",
          "2025-02-07T00:00:00",
          "2025-02-06T00:00:00",
          "2025-02-05T00:00:00",
          "2025-02-04T00:00:00",
          "2025-02-03T00:00:00",
          "2025-02-02T00:00:00",
          "2025-02-01T00:00:00",
          "2025-01-31T00:00:00",
          "2025-01-30T00:00:00",
          "2025-01-29T00:00:00",
          "2025-01-28T00:00:00",
          "2025-01-27T00:00:00",
          "2025-01-26T00:00:00",
          "2025-01-25T00:00:00",
          "2025-01-24T00:00:00",
          "2025-01-23T00:00:00",
          "2025-01-22T00:00:00",
          "2025-01-21T00:00:00",
          "2025-01-20T00:00:00",
          "2025-01-19T00:00:00",
          "2025-01-18T00:00:00",
          "2025-01-17T00:00:00",
          "2025-01-16T00:00:00",
          "2025-01-15T00:00:00",
          "2025-01-14T00:00:00",
          "2025-01-13T00:00:00",
          "2025-01-12T00:00:00",
          "2025-01-11T00:00:00",
          "2025-01-10T00:00:00",
          "2025-01-09T00:00:00",
          "2025-01-08T00:00:00",
          "2025-01-07T00:00:00",
          "2025-01-06T00:00:00",
          "2025-01-05T00:00:00",
          "2025-01-04T00:00:00",
          "2025-01-03T00:00:00",
          "2025-01-02T00:00:00",
          "2025-01-01T00:00:00",
          "2024-12-31T00:00:00",
          "2024-12-30T00:00:00",
          "2024-12-29T00:00:00",
          "2024-12-28T00:00:00",
          "2024-12-27T00:00:00",
          "2024-12-26T00:00:00",
          "2024-12-25T00:00:00",
          "2024-12-24T00:00:00",
          "2024-12-23T00:00:00",
          "2024-12-22T00:00:00",
          "2024-12-21T00:00:00",
          "2024-12-20T00:00:00",
          "2024-12-19T00:00:00",
          "2024-12-18T00:00:00",
          "2024-12-17T00:00:00",
          "2024-12-16T00:00:00",
          "2024-12-15T00:00:00",
          "2024-12-14T00:00:00",
          "2024-12-13T00:00:00",
          "2024-12-12T00:00:00",
          "2024-12-11T00:00:00",
          "2024-12-10T00:00:00",
          "2024-12-09T00:00:00",
          "2024-12-08T00:00:00",
          "2024-12-07T00:00:00",
          "2024-12-06T00:00:00",
          "2024-12-05T00:00:00",
          "2024-12-04T00:00:00",
          "2024-12-03T00:00:00",
          "2024-12-02T00:00:00",
          "2024-12-01T00:00:00",
          "2024-11-30T00:00:00",
          "2024-11-29T00:00:00",
          "2024-11-28T00:00:00",
          "2024-11-27T00:00:00",
          "2024-11-26T00:00:00",
          "2024-11-25T00:00:00",
          "2024-11-24T00:00:00",
          "2024-11-23T00:00:00",
          "2024-11-22T00:00:00",
          "2024-11-21T00:00:00",
          "2024-11-20T00:00:00",
          "2024-11-19T00:00:00",
          "2024-11-18T00:00:00",
          "2024-11-17T00:00:00",
          "2024-11-16T00:00:00",
          "2024-11-15T00:00:00",
          "2024-11-14T00:00:00",
          "2024-11-13T00:00:00",
          "2024-11-12T00:00:00",
          "2024-11-11T00:00:00",
          "2024-11-10T00:00:00",
          "2024-11-09T00:00:00",
          "2024-11-08T00:00:00",
          "2024-11-07T00:00:00",
          "2024-11-06T00:00:00",
          "2024-11-05T00:00:00",
          "2024-11-04T00:00:00",
          "2024-11-03T00:00:00",
          "2024-11-02T00:00:00",
          "2024-11-01T00:00:00",
          "2024-10-31T00:00:00",
          "2024-10-30T00:00:00",
          "2024-10-29T00:00:00",
          "2024-10-28T00:00:00",
          "2024-10-27T00:00:00",
          "2024-10-26T00:00:00",
          "2024-10-25T00:00:00",
          "2024-10-24T00:00:00",
          "2024-10-23T00:00:00",
          "2024-10-22T00:00:00",
          "2024-10-21T00:00:00",
          "2024-10-20T00:00:00",
          "2024-10-19T00:00:00",
          "2024-10-18T00:00:00",
          "2024-10-17T00:00:00",
          "2024-10-16T00:00:00",
          "2024-10-15T00:00:00",
          "2024-10-14T00:00:00",
          "2024-10-13T00:00:00",
          "2024-10-12T00:00:00",
          "2024-10-11T00:00:00",
          "2024-10-10T00:00:00",
          "2024-10-09T00:00:00",
          "2024-10-08T00:00:00",
          "2024-10-07T00:00:00",
          "2024-10-06T00:00:00",
          "2024-10-05T00:00:00",
          "2024-10-04T00:00:00",
          "2024-10-03T00:00:00",
          "2024-10-02T00:00:00",
          "2024-10-01T00:00:00",
          "2024-09-30T00:00:00",
          "2024-09-29T00:00:00",
          "2024-09-28T00:00:00",
          "2024-09-27T00:00:00",
          "2024-09-26T00:00:00",
          "2024-09-25T00:00:00",
          "2024-09-24T00:00:00",
          "2024-09-23T00:00:00",
          "2024-09-22T00:00:00",
          "2024-09-21T00:00:00",
          "2024-09-20T00:00:00",
          "2024-09-19T00:00:00",
          "2024-09-18T00:00:00",
          "2024-09-17T00:00:00",
          "2024-09-16T00:00:00",
          "2024-09-15T00:00:00",
          "2024-09-14T00:00:00",
          "2024-09-13T00:00:00",
          "2024-09-12T00:00:00",
          "2024-09-11T00:00:00",
          "2024-09-10T00:00:00",
          "2024-09-09T00:00:00",
          "2024-09-08T00:00:00",
          "2024-09-07T00:00:00",
          "2024-09-06T00:00:00",
          "2024-09-05T00:00:00",
          "2024-09-04T00:00:00",
          "2024-09-03T00:00:00",
          "2024-09-02T00:00:00",
          "2024-09-01T00:00:00",
          "2024-08-31T00:00:00",
          "2024-08-30T00:00:00",
          "2024-08-29T00:00:00",
          "2024-08-28T00:00:00",
          "2024-08-27T00:00:00",
          "2024-08-26T00:00:00",
          "2024-08-25T00:00:00",
          "2024-08-24T00:00:00",
          "2024-08-23T00:00:00",
          "2024-08-22T00:00:00",
          "2024-08-21T00:00:00",
          "2024-08-20T00:00:00",
          "2024-08-19T00:00:00",
          "2024-08-18T00:00:00",
          "2024-08-17T00:00:00",
          "2024-08-16T00:00:00",
          "2024-08-15T00:00:00",
          "2024-08-14T00:00:00",
          "2024-08-13T00:00:00",
          "2024-08-12T00:00:00",
          "2024-08-11T00:00:00",
          "2024-08-10T00:00:00",
          "2024-08-09T00:00:00",
          "2024-08-08T00:00:00",
          "2024-08-07T00:00:00",
          "2024-08-06T00:00:00",
          "2024-08-05T00:00:00",
          "2024-08-04T00:00:00",
          "2024-08-03T00:00:00",
          "2024-08-02T00:00:00",
          "2024-08-01T00:00:00",
          "2024-07-31T00:00:00",
          "2024-07-30T00:00:00",
          "2024-07-29T00:00:00",
          "2024-07-28T00:00:00",
          "2024-07-27T00:00:00",
          "2024-07-26T00:00:00",
          "2024-07-25T00:00:00",
          "2024-07-24T00:00:00",
          "2024-07-23T00:00:00",
          "2024-07-22T00:00:00",
          "2024-07-21T00:00:00",
          "2024-07-20T00:00:00",
          "2024-07-19T00:00:00",
          "2024-07-18T00:00:00",
          "2024-07-17T00:00:00",
          "2024-07-16T00:00:00",
          "2024-07-15T00:00:00",
          "2024-07-14T00:00:00",
          "2024-07-13T00:00:00",
          "2024-07-12T00:00:00",
          "2024-07-11T00:00:00",
          "2024-07-10T00:00:00",
          "2024-07-09T00:00:00",
          "2024-07-08T00:00:00",
          "2024-07-07T00:00:00",
          "2024-07-06T00:00:00",
          "2024-07-05T00:00:00",
          "2024-07-04T00:00:00",
          "2024-07-03T00:00:00",
          "2024-07-02T00:00:00",
          "2024-07-01T00:00:00",
          "2024-06-30T00:00:00",
          "2024-06-29T00:00:00",
          "2024-06-28T00:00:00",
          "2024-06-27T00:00:00",
          "2024-06-26T00:00:00",
          "2024-06-25T00:00:00",
          "2024-06-24T00:00:00",
          "2024-06-23T00:00:00",
          "2024-06-22T00:00:00",
          "2024-06-21T00:00:00",
          "2024-06-20T00:00:00",
          "2024-06-19T00:00:00",
          "2024-06-18T00:00:00",
          "2024-06-17T00:00:00",
          "2024-06-16T00:00:00",
          "2024-06-15T00:00:00",
          "2024-06-14T00:00:00",
          "2024-06-13T00:00:00",
          "2024-06-12T00:00:00",
          "2024-06-11T00:00:00",
          "2024-06-10T00:00:00",
          "2024-06-09T00:00:00",
          "2024-06-08T00:00:00",
          "2024-06-07T00:00:00",
          "2024-06-06T00:00:00",
          "2024-06-05T00:00:00",
          "2024-06-04T00:00:00",
          "2024-06-03T00:00:00",
          "2024-06-02T00:00:00",
          "2024-06-01T00:00:00",
          "2024-05-31T00:00:00",
          "2024-05-30T00:00:00",
          "2024-05-29T00:00:00",
          "2024-05-28T00:00:00",
          "2024-05-27T00:00:00",
          "2024-05-26T00:00:00",
          "2024-05-25T00:00:00",
          "2024-05-24T00:00:00",
          "2024-05-23T00:00:00",
          "2024-05-22T00:00:00",
          "2024-05-21T00:00:00",
          "2024-05-20T00:00:00",
          "2024-05-19T00:00:00",
          "2024-05-18T00:00:00",
          "2024-05-17T00:00:00",
          "2024-05-16T00:00:00",
          "2024-05-15T00:00:00",
          "2024-05-14T00:00:00",
          "2024-05-13T00:00:00",
          "2024-05-12T00:00:00",
          "2024-05-11T00:00:00",
          "2024-05-10T00:00:00",
          "2024-05-09T00:00:00",
          "2024-05-08T00:00:00",
          "2024-05-07T00:00:00",
          "2024-05-06T00:00:00",
          "2024-05-05T00:00:00",
          "2024-05-04T00:00:00",
          "2024-05-03T00:00:00",
          "2024-05-02T00:00:00",
          "2024-05-01T00:00:00",
          "2024-04-30T00:00:00",
          "2024-04-29T00:00:00",
          "2024-04-28T00:00:00",
          "2024-04-27T00:00:00",
          "2024-04-26T00:00:00",
          "2024-04-25T00:00:00",
          "2024-04-24T00:00:00",
          "2024-04-23T00:00:00",
          "2024-04-22T00:00:00",
          "2024-04-21T00:00:00",
          "2024-04-20T00:00:00",
          "2024-04-19T00:00:00"
         ],
         "y": [
          1.41,
          5.97,
          6.27,
          3.53,
          6.32,
          5.71,
          9.34,
          2.99,
          4.15,
          8.73,
          5.14,
          5.18,
          4.54,
          10.26,
          3.98,
          4.17,
          5.67,
          6.05,
          5.11,
          4.85,
          3.62,
          7.74,
          5.01,
          8.26,
          9.66,
          7.78,
          7.41,
          6.15,
          4.54,
          4.87,
          2.67,
          3.73,
          4.76,
          2.9,
          3.33,
          4.01,
          4.07,
          4.49,
          4.01,
          5.79,
          6.46,
          8.09,
          5.86,
          4.33,
          3.96,
          4.66,
          7.48,
          7.13,
          7.52,
          4.68,
          5.36,
          5.78,
          2.24,
          4.49,
          4.43,
          6.53,
          3.57,
          4.67,
          4.67,
          4.88,
          4.71,
          8.23,
          7.82,
          2.65,
          2.76,
          3.03,
          1.47,
          5.59,
          11.07,
          11.15,
          3.34,
          1.76,
          4.42,
          3.21,
          4.96,
          2.85,
          4.51,
          3.87,
          3.08,
          4.47,
          4.8,
          4.3,
          4.89,
          5.65,
          3.73,
          2.66,
          4.55,
          2.6,
          4.64,
          3.56,
          10.22,
          4.21,
          3.21,
          4.85,
          2.44,
          4.61,
          4.69,
          6.41,
          4.14,
          5.83,
          4.54,
          1.91,
          1.98,
          3.61,
          2.72,
          5.4,
          2.71,
          4.7,
          13.48,
          8.19,
          9.4,
          3.62,
          5.26,
          4.21,
          1.78,
          4.38,
          4.16,
          3.65,
          5.48,
          5.17,
          3.82,
          4.78,
          5.37,
          2.98,
          5.5,
          7.59,
          1.97,
          2.06,
          2.02,
          1.47,
          6.95,
          4.79,
          8.75,
          2.86,
          4.15,
          5.99,
          1.86,
          6.92,
          7.75,
          19.13,
          13.61,
          5.13,
          2.95,
          2.96,
          2.39,
          4.1,
          7.02,
          2.62,
          1.64,
          1.48,
          2.6,
          5.27,
          1.66,
          6.57,
          3.98,
          1.5,
          1.79,
          5.05,
          2.07,
          4.13,
          12.86,
          3.88,
          5.29,
          6.68,
          2.63,
          4.82,
          7.28,
          6.38,
          7.22,
          2.99,
          1.8,
          1.93,
          4.59,
          8.9,
          14.26,
          7.23,
          6.26,
          5.12,
          2.44,
          2.49,
          7.4,
          10.68,
          4.05,
          2.07,
          1.73,
          2.27,
          2.29,
          2.75,
          5.55,
          7.3,
          2.09,
          3.49,
          2.06,
          1.43,
          2.39,
          2.75,
          1.3,
          1.56,
          1.66,
          1.8,
          1.5,
          10.79,
          8.52,
          2.81,
          1.57,
          4.39,
          2.08,
          1.98,
          8.62,
          8.02,
          1.66,
          2.96,
          2.91,
          1.74,
          1.94,
          2.3,
          10.61,
          2.68,
          4.79,
          2.97,
          1.66,
          3.4,
          4.14,
          13.21,
          4.35,
          1.58,
          1.7,
          3,
          2.82,
          4.91,
          18.02,
          4.52,
          3.17,
          2.88,
          1.56,
          2,
          3.03,
          5.48,
          1.77,
          1.59,
          1.98,
          1.87,
          2.51,
          12.08,
          4.09,
          3.97,
          2,
          2.17,
          1.68,
          2.1,
          2.45,
          2.6,
          3.02,
          2.95,
          2.75,
          3,
          3.07,
          6.95,
          10.13,
          7.29,
          2.99,
          2.12,
          2.41,
          2.33,
          3.31,
          11.84,
          5.54,
          2.2,
          1.36,
          2.18,
          3.16,
          1.49,
          9.37,
          3.45,
          2.25,
          2.63,
          1.57,
          2.12,
          12.13,
          9.26,
          2.57,
          2.18,
          2.06,
          3.59,
          3.28,
          3.33,
          11.2,
          10.39,
          13.13,
          4.4,
          11.81,
          8.32,
          12.74,
          3.28,
          12.49,
          2.96,
          8.12,
          13.2,
          5.45,
          7.34,
          14.48,
          9.1,
          17.14,
          2.63,
          3.09,
          2.34,
          2.94,
          6.13,
          7.86,
          10.58,
          10.43,
          3.56,
          2.44,
          2.26,
          11.81,
          2.93,
          2.43,
          1.67,
          4.36,
          2.38,
          6.29,
          11.96,
          3.57,
          1.5,
          4.38,
          1.93,
          14.31,
          8.07,
          8.51,
          3.52,
          2.09,
          1.86,
          3.16,
          2.2,
          15.11,
          4.06,
          4.81,
          2.08,
          2.25,
          3.93,
          2.79,
          9.72,
          10.11,
          3.51,
          10.42,
          2.37,
          1.58,
          4.36,
          1.93,
          4.05,
          2.86,
          1.96,
          1.9,
          2.09,
          2.84,
          3.3,
          7.16,
          3.84,
          1.86,
          2.39,
          2.56,
          2.38,
          3.08,
          3.37,
          2.99
         ]
        }
       ],
       "layout": {
        "autosize": true,
        "barmode": "stack",
        "dragmode": "pan",
        "legend": {
         "title": {
          "text": "Metric"
         }
        },
        "template": {
         "data": {
          "bar": [
           {
            "error_x": {
             "color": "#2a3f5f"
            },
            "error_y": {
             "color": "#2a3f5f"
            },
            "marker": {
             "line": {
              "color": "white",
              "width": 0.5
             },
             "pattern": {
              "fillmode": "overlay",
              "size": 10,
              "solidity": 0.2
             }
            },
            "type": "bar"
           }
          ],
          "barpolar": [
           {
            "marker": {
             "line": {
              "color": "white",
              "width": 0.5
             },
             "pattern": {
              "fillmode": "overlay",
              "size": 10,
              "solidity": 0.2
             }
            },
            "type": "barpolar"
           }
          ],
          "carpet": [
           {
            "aaxis": {
             "endlinecolor": "#2a3f5f",
             "gridcolor": "#C8D4E3",
             "linecolor": "#C8D4E3",
             "minorgridcolor": "#C8D4E3",
             "startlinecolor": "#2a3f5f"
            },
            "baxis": {
             "endlinecolor": "#2a3f5f",
             "gridcolor": "#C8D4E3",
             "linecolor": "#C8D4E3",
             "minorgridcolor": "#C8D4E3",
             "startlinecolor": "#2a3f5f"
            },
            "type": "carpet"
           }
          ],
          "choropleth": [
           {
            "colorbar": {
             "outlinewidth": 0,
             "ticks": ""
            },
            "type": "choropleth"
           }
          ],
          "contour": [
           {
            "colorbar": {
             "outlinewidth": 0,
             "ticks": ""
            },
            "colorscale": [
             [
              0,
              "#0d0887"
             ],
             [
              0.1111111111111111,
              "#46039f"
             ],
             [
              0.2222222222222222,
              "#7201a8"
             ],
             [
              0.3333333333333333,
              "#9c179e"
             ],
             [
              0.4444444444444444,
              "#bd3786"
             ],
             [
              0.5555555555555556,
              "#d8576b"
             ],
             [
              0.6666666666666666,
              "#ed7953"
             ],
             [
              0.7777777777777778,
              "#fb9f3a"
             ],
             [
              0.8888888888888888,
              "#fdca26"
             ],
             [
              1,
              "#f0f921"
             ]
            ],
            "type": "contour"
           }
          ],
          "contourcarpet": [
           {
            "colorbar": {
             "outlinewidth": 0,
             "ticks": ""
            },
            "type": "contourcarpet"
           }
          ],
          "heatmap": [
           {
            "colorbar": {
             "outlinewidth": 0,
             "ticks": ""
            },
            "colorscale": [
             [
              0,
              "#0d0887"
             ],
             [
              0.1111111111111111,
              "#46039f"
             ],
             [
              0.2222222222222222,
              "#7201a8"
             ],
             [
              0.3333333333333333,
              "#9c179e"
             ],
             [
              0.4444444444444444,
              "#bd3786"
             ],
             [
              0.5555555555555556,
              "#d8576b"
             ],
             [
              0.6666666666666666,
              "#ed7953"
             ],
             [
              0.7777777777777778,
              "#fb9f3a"
             ],
             [
              0.8888888888888888,
              "#fdca26"
             ],
             [
              1,
              "#f0f921"
             ]
            ],
            "type": "heatmap"
           }
          ],
          "heatmapgl": [
           {
            "colorbar": {
             "outlinewidth": 0,
             "ticks": ""
            },
            "colorscale": [
             [
              0,
              "#0d0887"
             ],
             [
              0.1111111111111111,
              "#46039f"
             ],
             [
              0.2222222222222222,
              "#7201a8"
             ],
             [
              0.3333333333333333,
              "#9c179e"
             ],
             [
              0.4444444444444444,
              "#bd3786"
             ],
             [
              0.5555555555555556,
              "#d8576b"
             ],
             [
              0.6666666666666666,
              "#ed7953"
             ],
             [
              0.7777777777777778,
              "#fb9f3a"
             ],
             [
              0.8888888888888888,
              "#fdca26"
             ],
             [
              1,
              "#f0f921"
             ]
            ],
            "type": "heatmapgl"
           }
          ],
          "histogram": [
           {
            "marker": {
             "pattern": {
              "fillmode": "overlay",
              "size": 10,
              "solidity": 0.2
             }
            },
            "type": "histogram"
           }
          ],
          "histogram2d": [
           {
            "colorbar": {
             "outlinewidth": 0,
             "ticks": ""
            },
            "colorscale": [
             [
              0,
              "#0d0887"
             ],
             [
              0.1111111111111111,
              "#46039f"
             ],
             [
              0.2222222222222222,
              "#7201a8"
             ],
             [
              0.3333333333333333,
              "#9c179e"
             ],
             [
              0.4444444444444444,
              "#bd3786"
             ],
             [
              0.5555555555555556,
              "#d8576b"
             ],
             [
              0.6666666666666666,
              "#ed7953"
             ],
             [
              0.7777777777777778,
              "#fb9f3a"
             ],
             [
              0.8888888888888888,
              "#fdca26"
             ],
             [
              1,
              "#f0f921"
             ]
            ],
            "type": "histogram2d"
           }
          ],
          "histogram2dcontour": [
           {
            "colorbar": {
             "outlinewidth": 0,
             "ticks": ""
            },
            "colorscale": [
             [
              0,
              "#0d0887"
             ],
             [
              0.1111111111111111,
              "#46039f"
             ],
             [
              0.2222222222222222,
              "#7201a8"
             ],
             [
              0.3333333333333333,
              "#9c179e"
             ],
             [
              0.4444444444444444,
              "#bd3786"
             ],
             [
              0.5555555555555556,
              "#d8576b"
             ],
             [
              0.6666666666666666,
              "#ed7953"
             ],
             [
              0.7777777777777778,
              "#fb9f3a"
             ],
             [
              0.8888888888888888,
              "#fdca26"
             ],
             [
              1,
              "#f0f921"
             ]
            ],
            "type": "histogram2dcontour"
           }
          ],
          "mesh3d": [
           {
            "colorbar": {
             "outlinewidth": 0,
             "ticks": ""
            },
            "type": "mesh3d"
           }
          ],
          "parcoords": [
           {
            "line": {
             "colorbar": {
              "outlinewidth": 0,
              "ticks": ""
             }
            },
            "type": "parcoords"
           }
          ],
          "pie": [
           {
            "automargin": true,
            "type": "pie"
           }
          ],
          "scatter": [
           {
            "fillpattern": {
             "fillmode": "overlay",
             "size": 10,
             "solidity": 0.2
            },
            "type": "scatter"
           }
          ],
          "scatter3d": [
           {
            "line": {
             "colorbar": {
              "outlinewidth": 0,
              "ticks": ""
             }
            },
            "marker": {
             "colorbar": {
              "outlinewidth": 0,
              "ticks": ""
             }
            },
            "type": "scatter3d"
           }
          ],
          "scattercarpet": [
           {
            "marker": {
             "colorbar": {
              "outlinewidth": 0,
              "ticks": ""
             }
            },
            "type": "scattercarpet"
           }
          ],
          "scattergeo": [
           {
            "marker": {
             "colorbar": {
              "outlinewidth": 0,
              "ticks": ""
             }
            },
            "type": "scattergeo"
           }
          ],
          "scattergl": [
           {
            "marker": {
             "colorbar": {
              "outlinewidth": 0,
              "ticks": ""
             }
            },
            "type": "scattergl"
           }
          ],
          "scattermapbox": [
           {
            "marker": {
             "colorbar": {
              "outlinewidth": 0,
              "ticks": ""
             }
            },
            "type": "scattermapbox"
           }
          ],
          "scatterpolar": [
           {
            "marker": {
             "colorbar": {
              "outlinewidth": 0,
              "ticks": ""
             }
            },
            "type": "scatterpolar"
           }
          ],
          "scatterpolargl": [
           {
            "marker": {
             "colorbar": {
              "outlinewidth": 0,
              "ticks": ""
             }
            },
            "type": "scatterpolargl"
           }
          ],
          "scatterternary": [
           {
            "marker": {
             "colorbar": {
              "outlinewidth": 0,
              "ticks": ""
             }
            },
            "type": "scatterternary"
           }
          ],
          "surface": [
           {
            "colorbar": {
             "outlinewidth": 0,
             "ticks": ""
            },
            "colorscale": [
             [
              0,
              "#0d0887"
             ],
             [
              0.1111111111111111,
              "#46039f"
             ],
             [
              0.2222222222222222,
              "#7201a8"
             ],
             [
              0.3333333333333333,
              "#9c179e"
             ],
             [
              0.4444444444444444,
              "#bd3786"
             ],
             [
              0.5555555555555556,
              "#d8576b"
             ],
             [
              0.6666666666666666,
              "#ed7953"
             ],
             [
              0.7777777777777778,
              "#fb9f3a"
             ],
             [
              0.8888888888888888,
              "#fdca26"
             ],
             [
              1,
              "#f0f921"
             ]
            ],
            "type": "surface"
           }
          ],
          "table": [
           {
            "cells": {
             "fill": {
              "color": "#EBF0F8"
             },
             "line": {
              "color": "white"
             }
            },
            "header": {
             "fill": {
              "color": "#C8D4E3"
             },
             "line": {
              "color": "white"
             }
            },
            "type": "table"
           }
          ]
         },
         "layout": {
          "annotationdefaults": {
           "arrowcolor": "#2a3f5f",
           "arrowhead": 0,
           "arrowwidth": 1
          },
          "autotypenumbers": "strict",
          "coloraxis": {
           "colorbar": {
            "outlinewidth": 0,
            "ticks": ""
           }
          },
          "colorscale": {
           "diverging": [
            [
             0,
             "#8e0152"
            ],
            [
             0.1,
             "#c51b7d"
            ],
            [
             0.2,
             "#de77ae"
            ],
            [
             0.3,
             "#f1b6da"
            ],
            [
             0.4,
             "#fde0ef"
            ],
            [
             0.5,
             "#f7f7f7"
            ],
            [
             0.6,
             "#e6f5d0"
            ],
            [
             0.7,
             "#b8e186"
            ],
            [
             0.8,
             "#7fbc41"
            ],
            [
             0.9,
             "#4d9221"
            ],
            [
             1,
             "#276419"
            ]
           ],
           "sequential": [
            [
             0,
             "#0d0887"
            ],
            [
             0.1111111111111111,
             "#46039f"
            ],
            [
             0.2222222222222222,
             "#7201a8"
            ],
            [
             0.3333333333333333,
             "#9c179e"
            ],
            [
             0.4444444444444444,
             "#bd3786"
            ],
            [
             0.5555555555555556,
             "#d8576b"
            ],
            [
             0.6666666666666666,
             "#ed7953"
            ],
            [
             0.7777777777777778,
             "#fb9f3a"
            ],
            [
             0.8888888888888888,
             "#fdca26"
            ],
            [
             1,
             "#f0f921"
            ]
           ],
           "sequentialminus": [
            [
             0,
             "#0d0887"
            ],
            [
             0.1111111111111111,
             "#46039f"
            ],
            [
             0.2222222222222222,
             "#7201a8"
            ],
            [
             0.3333333333333333,
             "#9c179e"
            ],
            [
             0.4444444444444444,
             "#bd3786"
            ],
            [
             0.5555555555555556,
             "#d8576b"
            ],
            [
             0.6666666666666666,
             "#ed7953"
            ],
            [
             0.7777777777777778,
             "#fb9f3a"
            ],
            [
             0.8888888888888888,
             "#fdca26"
            ],
            [
             1,
             "#f0f921"
            ]
           ]
          },
          "colorway": [
           "#636efa",
           "#EF553B",
           "#00cc96",
           "#ab63fa",
           "#FFA15A",
           "#19d3f3",
           "#FF6692",
           "#B6E880",
           "#FF97FF",
           "#FECB52"
          ],
          "font": {
           "color": "#2a3f5f"
          },
          "geo": {
           "bgcolor": "white",
           "lakecolor": "white",
           "landcolor": "white",
           "showlakes": true,
           "showland": true,
           "subunitcolor": "#C8D4E3"
          },
          "hoverlabel": {
           "align": "left"
          },
          "hovermode": "closest",
          "mapbox": {
           "style": "light"
          },
          "paper_bgcolor": "white",
          "plot_bgcolor": "white",
          "polar": {
           "angularaxis": {
            "gridcolor": "#EBF0F8",
            "linecolor": "#EBF0F8",
            "ticks": ""
           },
           "bgcolor": "white",
           "radialaxis": {
            "gridcolor": "#EBF0F8",
            "linecolor": "#EBF0F8",
            "ticks": ""
           }
          },
          "scene": {
           "xaxis": {
            "backgroundcolor": "white",
            "gridcolor": "#DFE8F3",
            "gridwidth": 2,
            "linecolor": "#EBF0F8",
            "showbackground": true,
            "ticks": "",
            "zerolinecolor": "#EBF0F8"
           },
           "yaxis": {
            "backgroundcolor": "white",
            "gridcolor": "#DFE8F3",
            "gridwidth": 2,
            "linecolor": "#EBF0F8",
            "showbackground": true,
            "ticks": "",
            "zerolinecolor": "#EBF0F8"
           },
           "zaxis": {
            "backgroundcolor": "white",
            "gridcolor": "#DFE8F3",
            "gridwidth": 2,
            "linecolor": "#EBF0F8",
            "showbackground": true,
            "ticks": "",
            "zerolinecolor": "#EBF0F8"
           }
          },
          "shapedefaults": {
           "line": {
            "color": "#2a3f5f"
           }
          },
          "ternary": {
           "aaxis": {
            "gridcolor": "#DFE8F3",
            "linecolor": "#A2B1C6",
            "ticks": ""
           },
           "baxis": {
            "gridcolor": "#DFE8F3",
            "linecolor": "#A2B1C6",
            "ticks": ""
           },
           "bgcolor": "white",
           "caxis": {
            "gridcolor": "#DFE8F3",
            "linecolor": "#A2B1C6",
            "ticks": ""
           }
          },
          "title": {
           "x": 0.05
          },
          "xaxis": {
           "automargin": true,
           "gridcolor": "#EBF0F8",
           "linecolor": "#EBF0F8",
           "ticks": "",
           "title": {
            "standoff": 15
           },
           "zerolinecolor": "#EBF0F8",
           "zerolinewidth": 2
          },
          "yaxis": {
           "automargin": true,
           "gridcolor": "#EBF0F8",
           "linecolor": "#EBF0F8",
           "ticks": "",
           "title": {
            "standoff": 15
           },
           "zerolinecolor": "#EBF0F8",
           "zerolinewidth": 2
          }
         }
        },
        "title": {
         "text": "Daily Distance Walking/Running"
        },
        "xaxis": {
         "autorange": true,
         "range": [
          "2024-04-18 12:00",
          "2025-04-18 12:00"
         ],
         "tickangle": -45,
         "title": {
          "text": "Date"
         },
         "type": "date"
        },
        "yaxis": {
         "autorange": true,
         "range": [
          0,
          20.136842105263156
         ],
         "title": {
          "text": "Miles"
         },
         "type": "linear"
        }
       }
      },
      "image/png": "[encoded data removed]",
      "text/html": [
       "<div>                            <div id=\"106e1713-f221-4ed4-8f2b-1bf177a0f570\" class=\"plotly-graph-div\" style=\"height:500px; width:100%;\"></div>            <script type=\"text/javascript\">                require([\"plotly\"], function(Plotly) {                    window.PLOTLYENV=window.PLOTLYENV || {};                                    if (document.getElementById(\"106e1713-f221-4ed4-8f2b-1bf177a0f570\")) {                    Plotly.newPlot(                        \"106e1713-f221-4ed4-8f2b-1bf177a0f570\",                        [{\"name\":\"DistanceWalkingRunning\",\"x\":[\"2025-04-18T00:00:00\",\"2025-04-17T00:00:00\",\"2025-04-16T00:00:00\",\"2025-04-15T00:00:00\",\"2025-04-14T00:00:00\",\"2025-04-13T00:00:00\",\"2025-04-12T00:00:00\",\"2025-04-11T00:00:00\",\"2025-04-10T00:00:00\",\"2025-04-09T00:00:00\",\"2025-04-08T00:00:00\",\"2025-04-07T00:00:00\",\"2025-04-06T00:00:00\",\"2025-04-05T00:00:00\",\"2025-04-04T00:00:00\",\"2025-04-03T00:00:00\",\"2025-04-02T00:00:00\",\"2025-04-01T00:00:00\",\"2025-03-31T00:00:00\",\"2025-03-30T00:00:00\",\"2025-03-29T00:00:00\",\"2025-03-28T00:00:00\",\"2025-03-27T00:00:00\",\"2025-03-26T00:00:00\",\"2025-03-25T00:00:00\",\"2025-03-24T00:00:00\",\"2025-03-23T00:00:00\",\"2025-03-22T00:00:00\",\"2025-03-21T00:00:00\",\"2025-03-20T00:00:00\",\"2025-03-19T00:00:00\",\"2025-03-18T00:00:00\",\"2025-03-17T00:00:00\",\"2025-03-16T00:00:00\",\"2025-03-15T00:00:00\",\"2025-03-14T00:00:00\",\"2025-03-13T00:00:00\",\"2025-03-12T00:00:00\",\"2025-03-11T00:00:00\",\"2025-03-10T00:00:00\",\"2025-03-09T00:00:00\",\"2025-03-08T00:00:00\",\"2025-03-07T00:00:00\",\"2025-03-06T00:00:00\",\"2025-03-05T00:00:00\",\"2025-03-04T00:00:00\",\"2025-03-03T00:00:00\",\"2025-03-02T00:00:00\",\"2025-03-01T00:00:00\",\"2025-02-28T00:00:00\",\"2025-02-27T00:00:00\",\"2025-02-26T00:00:00\",\"2025-02-25T00:00:00\",\"2025-02-24T00:00:00\",\"2025-02-23T00:00:00\",\"2025-02-22T00:00:00\",\"2025-02-21T00:00:00\",\"2025-02-20T00:00:00\",\"2025-02-19T00:00:00\",\"2025-02-18T00:00:00\",\"2025-02-17T00:00:00\",\"2025-02-16T00:00:00\",\"2025-02-15T00:00:00\",\"2025-02-14T00:00:00\",\"2025-02-13T00:00:00\",\"2025-02-12T00:00:00\",\"2025-02-11T00:00:00\",\"2025-02-10T00:00:00\",\"2025-02-09T00:00:00\",\"2025-02-08T00:00:00\",\"2025-02-07T00:00:00\",\"2025-02-06T00:00:00\",\"2025-02-05T00:00:00\",\"2025-02-04T00:00:00\",\"2025-02-03T00:00:00\",\"2025-02-02T00:00:00\",\"2025-02-01T00:00:00\",\"2025-01-31T00:00:00\",\"2025-01-30T00:00:00\",\"2025-01-29T00:00:00\",\"2025-01-28T00:00:00\",\"2025-01-27T00:00:00\",\"2025-01-26T00:00:00\",\"2025-01-25T00:00:00\",\"2025-01-24T00:00:00\",\"2025-01-23T00:00:00\",\"2025-01-22T00:00:00\",\"2025-01-21T00:00:00\",\"2025-01-20T00:00:00\",\"2025-01-19T00:00:00\",\"2025-01-18T00:00:00\",\"2025-01-17T00:00:00\",\"2025-01-16T00:00:00\",\"2025-01-15T00:00:00\",\"2025-01-14T00:00:00\",\"2025-01-13T00:00:00\",\"2025-01-12T00:00:00\",\"2025-01-11T00:00:00\",\"2025-01-10T00:00:00\",\"2025-01-09T00:00:00\",\"2025-01-08T00:00:00\",\"2025-01-07T00:00:00\",\"2025-01-06T00:00:00\",\"2025-01-05T00:00:00\",\"2025-01-04T00:00:00\",\"2025-01-03T00:00:00\",\"2025-01-02T00:00:00\",\"2025-01-01T00:00:00\",\"2024-12-31T00:00:00\",\"2024-12-30T00:00:00\",\"2024-12-29T00:00:00\",\"2024-12-28T00:00:00\",\"2024-12-27T00:00:00\",\"2024-12-26T00:00:00\",\"2024-12-25T00:00:00\",\"2024-12-24T00:00:00\",\"2024-12-23T00:00:00\",\"2024-12-22T00:00:00\",\"2024-12-21T00:00:00\",\"2024-12-20T00:00:00\",\"2024-12-19T00:00:00\",\"2024-12-18T00:00:00\",\"2024-12-17T00:00:00\",\"2024-12-16T00:00:00\",\"2024-12-15T00:00:00\",\"2024-12-14T00:00:00\",\"2024-12-13T00:00:00\",\"2024-12-12T00:00:00\",\"2024-12-11T00:00:00\",\"2024-12-10T00:00:00\",\"2024-12-09T00:00:00\",\"2024-12-08T00:00:00\",\"2024-12-07T00:00:00\",\"2024-12-06T00:00:00\",\"2024-12-05T00:00:00\",\"2024-12-04T00:00:00\",\"2024-12-03T00:00:00\",\"2024-12-02T00:00:00\",\"2024-12-01T00:00:00\",\"2024-11-30T00:00:00\",\"2024-11-29T00:00:00\",\"2024-11-28T00:00:00\",\"2024-11-27T00:00:00\",\"2024-11-26T00:00:00\",\"2024-11-25T00:00:00\",\"2024-11-24T00:00:00\",\"2024-11-23T00:00:00\",\"2024-11-22T00:00:00\",\"2024-11-21T00:00:00\",\"2024-11-20T00:00:00\",\"2024-11-19T00:00:00\",\"2024-11-18T00:00:00\",\"2024-11-17T00:00:00\",\"2024-11-16T00:00:00\",\"2024-11-15T00:00:00\",\"2024-11-14T00:00:00\",\"2024-11-13T00:00:00\",\"2024-11-12T00:00:00\",\"2024-11-11T00:00:00\",\"2024-11-10T00:00:00\",\"2024-11-09T00:00:00\",\"2024-11-08T00:00:00\",\"2024-11-07T00:00:00\",\"2024-11-06T00:00:00\",\"2024-11-05T00:00:00\",\"2024-11-04T00:00:00\",\"2024-11-03T00:00:00\",\"2024-11-02T00:00:00\",\"2024-11-01T00:00:00\",\"2024-10-31T00:00:00\",\"2024-10-30T00:00:00\",\"2024-10-29T00:00:00\",\"2024-10-28T00:00:00\",\"2024-10-27T00:00:00\",\"2024-10-26T00:00:00\",\"2024-10-25T00:00:00\",\"2024-10-24T00:00:00\",\"2024-10-23T00:00:00\",\"2024-10-22T00:00:00\",\"2024-10-21T00:00:00\",\"2024-10-20T00:00:00\",\"2024-10-19T00:00:00\",\"2024-10-18T00:00:00\",\"2024-10-17T00:00:00\",\"2024-10-16T00:00:00\",\"2024-10-15T00:00:00\",\"2024-10-14T00:00:00\",\"2024-10-13T00:00:00\",\"2024-10-12T00:00:00\",\"2024-10-11T00:00:00\",\"2024-10-10T00:00:00\",\"2024-10-09T00:00:00\",\"2024-10-08T00:00:00\",\"2024-10-07T00:00:00\",\"2024-10-06T00:00:00\",\"2024-10-05T00:00:00\",\"2024-10-04T00:00:00\",\"2024-10-03T00:00:00\",\"2024-10-02T00:00:00\",\"2024-10-01T00:00:00\",\"2024-09-30T00:00:00\",\"2024-09-29T00:00:00\",\"2024-09-28T00:00:00\",\"2024-09-27T00:00:00\",\"2024-09-26T00:00:00\",\"2024-09-25T00:00:00\",\"2024-09-24T00:00:00\",\"2024-09-23T00:00:00\",\"2024-09-22T00:00:00\",\"2024-09-21T00:00:00\",\"2024-09-20T00:00:00\",\"2024-09-19T00:00:00\",\"2024-09-18T00:00:00\",\"2024-09-17T00:00:00\",\"2024-09-16T00:00:00\",\"2024-09-15T00:00:00\",\"2024-09-14T00:00:00\",\"2024-09-13T00:00:00\",\"2024-09-12T00:00:00\",\"2024-09-11T00:00:00\",\"2024-09-10T00:00:00\",\"2024-09-09T00:00:00\",\"2024-09-08T00:00:00\",\"2024-09-07T00:00:00\",\"2024-09-06T00:00:00\",\"2024-09-05T00:00:00\",\"2024-09-04T00:00:00\",\"2024-09-03T00:00:00\",\"2024-09-02T00:00:00\",\"2024-09-01T00:00:00\",\"2024-08-31T00:00:00\",\"2024-08-30T00:00:00\",\"2024-08-29T00:00:00\",\"2024-08-28T00:00:00\",\"2024-08-27T00:00:00\",\"2024-08-26T00:00:00\",\"2024-08-25T00:00:00\",\"2024-08-24T00:00:00\",\"2024-08-23T00:00:00\",\"2024-08-22T00:00:00\",\"2024-08-21T00:00:00\",\"2024-08-20T00:00:00\",\"2024-08-19T00:00:00\",\"2024-08-18T00:00:00\",\"2024-08-17T00:00:00\",\"2024-08-16T00:00:00\",\"2024-08-15T00:00:00\",\"2024-08-14T00:00:00\",\"2024-08-13T00:00:00\",\"2024-08-12T00:00:00\",\"2024-08-11T00:00:00\",\"2024-08-10T00:00:00\",\"2024-08-09T00:00:00\",\"2024-08-08T00:00:00\",\"2024-08-07T00:00:00\",\"2024-08-06T00:00:00\",\"2024-08-05T00:00:00\",\"2024-08-04T00:00:00\",\"2024-08-03T00:00:00\",\"2024-08-02T00:00:00\",\"2024-08-01T00:00:00\",\"2024-07-31T00:00:00\",\"2024-07-30T00:00:00\",\"2024-07-29T00:00:00\",\"2024-07-28T00:00:00\",\"2024-07-27T00:00:00\",\"2024-07-26T00:00:00\",\"2024-07-25T00:00:00\",\"2024-07-24T00:00:00\",\"2024-07-23T00:00:00\",\"2024-07-22T00:00:00\",\"2024-07-21T00:00:00\",\"2024-07-20T00:00:00\",\"2024-07-19T00:00:00\",\"2024-07-18T00:00:00\",\"2024-07-17T00:00:00\",\"2024-07-16T00:00:00\",\"2024-07-15T00:00:00\",\"2024-07-14T00:00:00\",\"2024-07-13T00:00:00\",\"2024-07-12T00:00:00\",\"2024-07-11T00:00:00\",\"2024-07-10T00:00:00\",\"2024-07-09T00:00:00\",\"2024-07-08T00:00:00\",\"2024-07-07T00:00:00\",\"2024-07-06T00:00:00\",\"2024-07-05T00:00:00\",\"2024-07-04T00:00:00\",\"2024-07-03T00:00:00\",\"2024-07-02T00:00:00\",\"2024-07-01T00:00:00\",\"2024-06-30T00:00:00\",\"2024-06-29T00:00:00\",\"2024-06-28T00:00:00\",\"2024-06-27T00:00:00\",\"2024-06-26T00:00:00\",\"2024-06-25T00:00:00\",\"2024-06-24T00:00:00\",\"2024-06-23T00:00:00\",\"2024-06-22T00:00:00\",\"2024-06-21T00:00:00\",\"2024-06-20T00:00:00\",\"2024-06-19T00:00:00\",\"2024-06-18T00:00:00\",\"2024-06-17T00:00:00\",\"2024-06-16T00:00:00\",\"2024-06-15T00:00:00\",\"2024-06-14T00:00:00\",\"2024-06-13T00:00:00\",\"2024-06-12T00:00:00\",\"2024-06-11T00:00:00\",\"2024-06-10T00:00:00\",\"2024-06-09T00:00:00\",\"2024-06-08T00:00:00\",\"2024-06-07T00:00:00\",\"2024-06-06T00:00:00\",\"2024-06-05T00:00:00\",\"2024-06-04T00:00:00\",\"2024-06-03T00:00:00\",\"2024-06-02T00:00:00\",\"2024-06-01T00:00:00\",\"2024-05-31T00:00:00\",\"2024-05-30T00:00:00\",\"2024-05-29T00:00:00\",\"2024-05-28T00:00:00\",\"2024-05-27T00:00:00\",\"2024-05-26T00:00:00\",\"2024-05-25T00:00:00\",\"2024-05-24T00:00:00\",\"2024-05-23T00:00:00\",\"2024-05-22T00:00:00\",\"2024-05-21T00:00:00\",\"2024-05-20T00:00:00\",\"2024-05-19T00:00:00\",\"2024-05-18T00:00:00\",\"2024-05-17T00:00:00\",\"2024-05-16T00:00:00\",\"2024-05-15T00:00:00\",\"2024-05-14T00:00:00\",\"2024-05-13T00:00:00\",\"2024-05-12T00:00:00\",\"2024-05-11T00:00:00\",\"2024-05-10T00:00:00\",\"2024-05-09T00:00:00\",\"2024-05-08T00:00:00\",\"2024-05-07T00:00:00\",\"2024-05-06T00:00:00\",\"2024-05-05T00:00:00\",\"2024-05-04T00:00:00\",\"2024-05-03T00:00:00\",\"2024-05-02T00:00:00\",\"2024-05-01T00:00:00\",\"2024-04-30T00:00:00\",\"2024-04-29T00:00:00\",\"2024-04-28T00:00:00\",\"2024-04-27T00:00:00\",\"2024-04-26T00:00:00\",\"2024-04-25T00:00:00\",\"2024-04-24T00:00:00\",\"2024-04-23T00:00:00\",\"2024-04-22T00:00:00\",\"2024-04-21T00:00:00\",\"2024-04-20T00:00:00\",\"2024-04-19T00:00:00\"],\"y\":[1.41,5.97,6.27,3.53,6.32,5.71,9.34,2.99,4.15,8.73,5.14,5.18,4.54,10.26,3.98,4.17,5.67,6.05,5.11,4.85,3.62,7.74,5.01,8.26,9.66,7.78,7.41,6.15,4.54,4.87,2.67,3.73,4.76,2.9,3.33,4.01,4.07,4.49,4.01,5.79,6.46,8.09,5.86,4.33,3.96,4.66,7.48,7.13,7.52,4.68,5.36,5.78,2.24,4.49,4.43,6.53,3.57,4.67,4.67,4.88,4.71,8.23,7.82,2.65,2.76,3.03,1.47,5.59,11.07,11.15,3.34,1.76,4.42,3.21,4.96,2.85,4.51,3.87,3.08,4.47,4.8,4.3,4.89,5.65,3.73,2.66,4.55,2.6,4.64,3.56,10.22,4.21,3.21,4.85,2.44,4.61,4.69,6.41,4.14,5.83,4.54,1.91,1.98,3.61,2.72,5.4,2.71,4.7,13.48,8.19,9.4,3.62,5.26,4.21,1.78,4.38,4.16,3.65,5.48,5.17,3.82,4.78,5.37,2.98,5.5,7.59,1.97,2.06,2.02,1.47,6.95,4.79,8.75,2.86,4.15,5.99,1.86,6.92,7.75,19.13,13.61,5.13,2.95,2.96,2.39,4.1,7.02,2.62,1.64,1.48,2.6,5.27,1.66,6.57,3.98,1.5,1.79,5.05,2.07,4.13,12.86,3.88,5.29,6.68,2.63,4.82,7.28,6.38,7.22,2.99,1.8,1.93,4.59,8.9,14.26,7.23,6.26,5.12,2.44,2.49,7.4,10.68,4.05,2.07,1.73,2.27,2.29,2.75,5.55,7.3,2.09,3.49,2.06,1.43,2.39,2.75,1.3,1.56,1.66,1.8,1.5,10.79,8.52,2.81,1.57,4.39,2.08,1.98,8.62,8.02,1.66,2.96,2.91,1.74,1.94,2.3,10.61,2.68,4.79,2.97,1.66,3.4,4.14,13.21,4.35,1.58,1.7,3.0,2.82,4.91,18.02,4.52,3.17,2.88,1.56,2.0,3.03,5.48,1.77,1.59,1.98,1.87,2.51,12.08,4.09,3.97,2.0,2.17,1.68,2.1,2.45,2.6,3.02,2.95,2.75,3.0,3.07,6.95,10.13,7.29,2.99,2.12,2.41,2.33,3.31,11.84,5.54,2.2,1.36,2.18,3.16,1.49,9.37,3.45,2.25,2.63,1.57,2.12,12.13,9.26,2.57,2.18,2.06,3.59,3.28,3.33,11.2,10.39,13.13,4.4,11.81,8.32,12.74,3.28,12.49,2.96,8.12,13.2,5.45,7.34,14.48,9.1,17.14,2.63,3.09,2.34,2.94,6.13,7.86,10.58,10.43,3.56,2.44,2.26,11.81,2.93,2.43,1.67,4.36,2.38,6.29,11.96,3.57,1.5,4.38,1.93,14.31,8.07,8.51,3.52,2.09,1.86,3.16,2.2,15.11,4.06,4.81,2.08,2.25,3.93,2.79,9.72,10.11,3.51,10.42,2.37,1.58,4.36,1.93,4.05,2.86,1.96,1.9,2.09,2.84,3.3,7.16,3.84,1.86,2.39,2.56,2.38,3.08,3.37,2.99],\"type\":\"bar\"}],                        {\"template\":{\"data\":{\"barpolar\":[{\"marker\":{\"line\":{\"color\":\"white\",\"width\":0.5},\"pattern\":{\"fillmode\":\"overlay\",\"size\":10,\"solidity\":0.2}},\"type\":\"barpolar\"}],\"bar\":[{\"error_x\":{\"color\":\"#2a3f5f\"},\"error_y\":{\"color\":\"#2a3f5f\"},\"marker\":{\"line\":{\"color\":\"white\",\"width\":0.5},\"pattern\":{\"fillmode\":\"overlay\",\"size\":10,\"solidity\":0.2}},\"type\":\"bar\"}],\"carpet\":[{\"aaxis\":{\"endlinecolor\":\"#2a3f5f\",\"gridcolor\":\"#C8D4E3\",\"linecolor\":\"#C8D4E3\",\"minorgridcolor\":\"#C8D4E3\",\"startlinecolor\":\"#2a3f5f\"},\"baxis\":{\"endlinecolor\":\"#2a3f5f\",\"gridcolor\":\"#C8D4E3\",\"linecolor\":\"#C8D4E3\",\"minorgridcolor\":\"#C8D4E3\",\"startlinecolor\":\"#2a3f5f\"},\"type\":\"carpet\"}],\"choropleth\":[{\"colorbar\":{\"outlinewidth\":0,\"ticks\":\"\"},\"type\":\"choropleth\"}],\"contourcarpet\":[{\"colorbar\":{\"outlinewidth\":0,\"ticks\":\"\"},\"type\":\"contourcarpet\"}],\"contour\":[{\"colorbar\":{\"outlinewidth\":0,\"ticks\":\"\"},\"colorscale\":[[0.0,\"#0d0887\"],[0.1111111111111111,\"#46039f\"],[0.2222222222222222,\"#7201a8\"],[0.3333333333333333,\"#9c179e\"],[0.4444444444444444,\"#bd3786\"],[0.5555555555555556,\"#d8576b\"],[0.6666666666666666,\"#ed7953\"],[0.7777777777777778,\"#fb9f3a\"],[0.8888888888888888,\"#fdca26\"],[1.0,\"#f0f921\"]],\"type\":\"contour\"}],\"heatmapgl\":[{\"colorbar\":{\"outlinewidth\":0,\"ticks\":\"\"},\"colorscale\":[[0.0,\"#0d0887\"],[0.1111111111111111,\"#46039f\"],[0.2222222222222222,\"#7201a8\"],[0.3333333333333333,\"#9c179e\"],[0.4444444444444444,\"#bd3786\"],[0.5555555555555556,\"#d8576b\"],[0.6666666666666666,\"#ed7953\"],[0.7777777777777778,\"#fb9f3a\"],[0.8888888888888888,\"#fdca26\"],[1.0,\"#f0f921\"]],\"type\":\"heatmapgl\"}],\"heatmap\":[{\"colorbar\":{\"outlinewidth\":0,\"ticks\":\"\"},\"colorscale\":[[0.0,\"#0d0887\"],[0.1111111111111111,\"#46039f\"],[0.2222222222222222,\"#7201a8\"],[0.3333333333333333,\"#9c179e\"],[0.4444444444444444,\"#bd3786\"],[0.5555555555555556,\"#d8576b\"],[0.6666666666666666,\"#ed7953\"],[0.7777777777777778,\"#fb9f3a\"],[0.8888888888888888,\"#fdca26\"],[1.0,\"#f0f921\"]],\"type\":\"heatmap\"}],\"histogram2dcontour\":[{\"colorbar\":{\"outlinewidth\":0,\"ticks\":\"\"},\"colorscale\":[[0.0,\"#0d0887\"],[0.1111111111111111,\"#46039f\"],[0.2222222222222222,\"#7201a8\"],[0.3333333333333333,\"#9c179e\"],[0.4444444444444444,\"#bd3786\"],[0.5555555555555556,\"#d8576b\"],[0.6666666666666666,\"#ed7953\"],[0.7777777777777778,\"#fb9f3a\"],[0.8888888888888888,\"#fdca26\"],[1.0,\"#f0f921\"]],\"type\":\"histogram2dcontour\"}],\"histogram2d\":[{\"colorbar\":{\"outlinewidth\":0,\"ticks\":\"\"},\"colorscale\":[[0.0,\"#0d0887\"],[0.1111111111111111,\"#46039f\"],[0.2222222222222222,\"#7201a8\"],[0.3333333333333333,\"#9c179e\"],[0.4444444444444444,\"#bd3786\"],[0.5555555555555556,\"#d8576b\"],[0.6666666666666666,\"#ed7953\"],[0.7777777777777778,\"#fb9f3a\"],[0.8888888888888888,\"#fdca26\"],[1.0,\"#f0f921\"]],\"type\":\"histogram2d\"}],\"histogram\":[{\"marker\":{\"pattern\":{\"fillmode\":\"overlay\",\"size\":10,\"solidity\":0.2}},\"type\":\"histogram\"}],\"mesh3d\":[{\"colorbar\":{\"outlinewidth\":0,\"ticks\":\"\"},\"type\":\"mesh3d\"}],\"parcoords\":[{\"line\":{\"colorbar\":{\"outlinewidth\":0,\"ticks\":\"\"}},\"type\":\"parcoords\"}],\"pie\":[{\"automargin\":true,\"type\":\"pie\"}],\"scatter3d\":[{\"line\":{\"colorbar\":{\"outlinewidth\":0,\"ticks\":\"\"}},\"marker\":{\"colorbar\":{\"outlinewidth\":0,\"ticks\":\"\"}},\"type\":\"scatter3d\"}],\"scattercarpet\":[{\"marker\":{\"colorbar\":{\"outlinewidth\":0,\"ticks\":\"\"}},\"type\":\"scattercarpet\"}],\"scattergeo\":[{\"marker\":{\"colorbar\":{\"outlinewidth\":0,\"ticks\":\"\"}},\"type\":\"scattergeo\"}],\"scattergl\":[{\"marker\":{\"colorbar\":{\"outlinewidth\":0,\"ticks\":\"\"}},\"type\":\"scattergl\"}],\"scattermapbox\":[{\"marker\":{\"colorbar\":{\"outlinewidth\":0,\"ticks\":\"\"}},\"type\":\"scattermapbox\"}],\"scatterpolargl\":[{\"marker\":{\"colorbar\":{\"outlinewidth\":0,\"ticks\":\"\"}},\"type\":\"scatterpolargl\"}],\"scatterpolar\":[{\"marker\":{\"colorbar\":{\"outlinewidth\":0,\"ticks\":\"\"}},\"type\":\"scatterpolar\"}],\"scatter\":[{\"fillpattern\":{\"fillmode\":\"overlay\",\"size\":10,\"solidity\":0.2},\"type\":\"scatter\"}],\"scatterternary\":[{\"marker\":{\"colorbar\":{\"outlinewidth\":0,\"ticks\":\"\"}},\"type\":\"scatterternary\"}],\"surface\":[{\"colorbar\":{\"outlinewidth\":0,\"ticks\":\"\"},\"colorscale\":[[0.0,\"#0d0887\"],[0.1111111111111111,\"#46039f\"],[0.2222222222222222,\"#7201a8\"],[0.3333333333333333,\"#9c179e\"],[0.4444444444444444,\"#bd3786\"],[0.5555555555555556,\"#d8576b\"],[0.6666666666666666,\"#ed7953\"],[0.7777777777777778,\"#fb9f3a\"],[0.8888888888888888,\"#fdca26\"],[1.0,\"#f0f921\"]],\"type\":\"surface\"}],\"table\":[{\"cells\":{\"fill\":{\"color\":\"#EBF0F8\"},\"line\":{\"color\":\"white\"}},\"header\":{\"fill\":{\"color\":\"#C8D4E3\"},\"line\":{\"color\":\"white\"}},\"type\":\"table\"}]},\"layout\":{\"annotationdefaults\":{\"arrowcolor\":\"#2a3f5f\",\"arrowhead\":0,\"arrowwidth\":1},\"autotypenumbers\":\"strict\",\"coloraxis\":{\"colorbar\":{\"outlinewidth\":0,\"ticks\":\"\"}},\"colorscale\":{\"diverging\":[[0,\"#8e0152\"],[0.1,\"#c51b7d\"],[0.2,\"#de77ae\"],[0.3,\"#f1b6da\"],[0.4,\"#fde0ef\"],[0.5,\"#f7f7f7\"],[0.6,\"#e6f5d0\"],[0.7,\"#b8e186\"],[0.8,\"#7fbc41\"],[0.9,\"#4d9221\"],[1,\"#276419\"]],\"sequential\":[[0.0,\"#0d0887\"],[0.1111111111111111,\"#46039f\"],[0.2222222222222222,\"#7201a8\"],[0.3333333333333333,\"#9c179e\"],[0.4444444444444444,\"#bd3786\"],[0.5555555555555556,\"#d8576b\"],[0.6666666666666666,\"#ed7953\"],[0.7777777777777778,\"#fb9f3a\"],[0.8888888888888888,\"#fdca26\"],[1.0,\"#f0f921\"]],\"sequentialminus\":[[0.0,\"#0d0887\"],[0.1111111111111111,\"#46039f\"],[0.2222222222222222,\"#7201a8\"],[0.3333333333333333,\"#9c179e\"],[0.4444444444444444,\"#bd3786\"],[0.5555555555555556,\"#d8576b\"],[0.6666666666666666,\"#ed7953\"],[0.7777777777777778,\"#fb9f3a\"],[0.8888888888888888,\"#fdca26\"],[1.0,\"#f0f921\"]]},\"colorway\":[\"#636efa\",\"#EF553B\",\"#00cc96\",\"#ab63fa\",\"#FFA15A\",\"#19d3f3\",\"#FF6692\",\"#B6E880\",\"#FF97FF\",\"#FECB52\"],\"font\":{\"color\":\"#2a3f5f\"},\"geo\":{\"bgcolor\":\"white\",\"lakecolor\":\"white\",\"landcolor\":\"white\",\"showlakes\":true,\"showland\":true,\"subunitcolor\":\"#C8D4E3\"},\"hoverlabel\":{\"align\":\"left\"},\"hovermode\":\"closest\",\"mapbox\":{\"style\":\"light\"},\"paper_bgcolor\":\"white\",\"plot_bgcolor\":\"white\",\"polar\":{\"angularaxis\":{\"gridcolor\":\"#EBF0F8\",\"linecolor\":\"#EBF0F8\",\"ticks\":\"\"},\"bgcolor\":\"white\",\"radialaxis\":{\"gridcolor\":\"#EBF0F8\",\"linecolor\":\"#EBF0F8\",\"ticks\":\"\"}},\"scene\":{\"xaxis\":{\"backgroundcolor\":\"white\",\"gridcolor\":\"#DFE8F3\",\"gridwidth\":2,\"linecolor\":\"#EBF0F8\",\"showbackground\":true,\"ticks\":\"\",\"zerolinecolor\":\"#EBF0F8\"},\"yaxis\":{\"backgroundcolor\":\"white\",\"gridcolor\":\"#DFE8F3\",\"gridwidth\":2,\"linecolor\":\"#EBF0F8\",\"showbackground\":true,\"ticks\":\"\",\"zerolinecolor\":\"#EBF0F8\"},\"zaxis\":{\"backgroundcolor\":\"white\",\"gridcolor\":\"#DFE8F3\",\"gridwidth\":2,\"linecolor\":\"#EBF0F8\",\"showbackground\":true,\"ticks\":\"\",\"zerolinecolor\":\"#EBF0F8\"}},\"shapedefaults\":{\"line\":{\"color\":\"#2a3f5f\"}},\"ternary\":{\"aaxis\":{\"gridcolor\":\"#DFE8F3\",\"linecolor\":\"#A2B1C6\",\"ticks\":\"\"},\"baxis\":{\"gridcolor\":\"#DFE8F3\",\"linecolor\":\"#A2B1C6\",\"ticks\":\"\"},\"bgcolor\":\"white\",\"caxis\":{\"gridcolor\":\"#DFE8F3\",\"linecolor\":\"#A2B1C6\",\"ticks\":\"\"}},\"title\":{\"x\":0.05},\"xaxis\":{\"automargin\":true,\"gridcolor\":\"#EBF0F8\",\"linecolor\":\"#EBF0F8\",\"ticks\":\"\",\"title\":{\"standoff\":15},\"zerolinecolor\":\"#EBF0F8\",\"zerolinewidth\":2},\"yaxis\":{\"automargin\":true,\"gridcolor\":\"#EBF0F8\",\"linecolor\":\"#EBF0F8\",\"ticks\":\"\",\"title\":{\"standoff\":15},\"zerolinecolor\":\"#EBF0F8\",\"zerolinewidth\":2}}},\"xaxis\":{\"title\":{\"text\":\"Date\"},\"tickangle\":-45},\"barmode\":\"stack\",\"title\":{\"text\":\"Daily Distance Walking\\u002fRunning\"},\"yaxis\":{\"title\":{\"text\":\"Miles\"}},\"legend\":{\"title\":{\"text\":\"Metric\"}},\"height\":500},                        {\"responsive\": true}                    ).then(function(){\n",
       "                            \n",
       "var gd = document.getElementById('106e1713-f221-4ed4-8f2b-1bf177a0f570');\n",
       "var x = new MutationObserver(function (mutations, observer) {{\n",
       "        var display = window.getComputedStyle(gd).display;\n",
       "        if (!display || display === 'none') {{\n",
       "            console.log([gd, 'removed!']);\n",
       "            Plotly.purge(gd);\n",
       "            observer.disconnect();\n",
       "        }}\n",
       "}});\n",
       "\n",
       "// Listen for the removal of the full notebook cells\n",
       "var notebookContainer = gd.closest('#notebook-container');\n",
       "if (notebookContainer) {{\n",
       "    x.observe(notebookContainer, {childList: true});\n",
       "}}\n",
       "\n",
       "// Listen for the clearing of the current output cell\n",
       "var outputEl = gd.closest('.output');\n",
       "if (outputEl) {{\n",
       "    x.observe(outputEl, {childList: true});\n",
       "}}\n",
       "\n",
       "                        })                };                });            </script>        </div>"
      ]
     },
     "metadata": {},
     "output_type": "display_data"
    }
   ],
   "source": [
    "import plotly.graph_objects as go\n",
    "\n",
    "fig = go.Figure()\n",
    "\n",
    "# Add each metric as a bar trace\n",
    "for metric in ['DistanceWalkingRunning']:\n",
    "    fig.add_trace(go.Bar(\n",
    "        x=distance_daily['date'],\n",
    "        y=distance_daily['value'],\n",
    "        name=metric\n",
    "    ))\n",
    "\n",
    "# Customize layout for stacked view\n",
    "fig.update_layout(\n",
    "    barmode='stack',\n",
    "    title='Daily Distance Walking/Running',\n",
    "    xaxis_title='Date',\n",
    "    yaxis_title='Miles',\n",
    "    legend_title='Metric',\n",
    "    xaxis_tickangle=-45,\n",
    "    template='plotly_white',\n",
    "    height=500\n",
    ")\n",
    "\n",
    "fig.show()"
   ]
  },
  {
   "cell_type": "code",
   "execution_count": 114,
   "id": "1eef6650-b59b-43ed-9928-08e95acabf7e",
   "metadata": {},
   "outputs": [
    {
     "data": {
      "application/vnd.plotly.v1+json": {
       "config": {
        "plotlyServerURL": "https://plot.ly"
       },
       "data": [
        {
         "hovertemplate": "%{x|%b %d, %Y}<br>Distance: %{y:.2f} mi",
         "line": {
          "color": "mediumseagreen"
         },
         "mode": "lines+markers",
         "name": "Distance Walking",
         "type": "scatter",
         "x": [
          "2025-04-18T00:00:00",
          "2025-04-17T00:00:00",
          "2025-04-16T00:00:00",
          "2025-04-15T00:00:00",
          "2025-04-14T00:00:00",
          "2025-04-13T00:00:00",
          "2025-04-12T00:00:00",
          "2025-04-11T00:00:00",
          "2025-04-10T00:00:00",
          "2025-04-09T00:00:00",
          "2025-04-08T00:00:00",
          "2025-04-07T00:00:00",
          "2025-04-06T00:00:00",
          "2025-04-05T00:00:00",
          "2025-04-04T00:00:00",
          "2025-04-03T00:00:00",
          "2025-04-02T00:00:00",
          "2025-04-01T00:00:00",
          "2025-03-31T00:00:00",
          "2025-03-30T00:00:00",
          "2025-03-29T00:00:00",
          "2025-03-28T00:00:00",
          "2025-03-27T00:00:00",
          "2025-03-26T00:00:00",
          "2025-03-25T00:00:00",
          "2025-03-24T00:00:00",
          "2025-03-23T00:00:00",
          "2025-03-22T00:00:00",
          "2025-03-21T00:00:00",
          "2025-03-20T00:00:00",
          "2025-03-19T00:00:00",
          "2025-03-18T00:00:00",
          "2025-03-17T00:00:00",
          "2025-03-16T00:00:00",
          "2025-03-15T00:00:00",
          "2025-03-14T00:00:00",
          "2025-03-13T00:00:00",
          "2025-03-12T00:00:00",
          "2025-03-11T00:00:00",
          "2025-03-10T00:00:00",
          "2025-03-09T00:00:00",
          "2025-03-08T00:00:00",
          "2025-03-07T00:00:00",
          "2025-03-06T00:00:00",
          "2025-03-05T00:00:00",
          "2025-03-04T00:00:00",
          "2025-03-03T00:00:00",
          "2025-03-02T00:00:00",
          "2025-03-01T00:00:00",
          "2025-02-28T00:00:00",
          "2025-02-27T00:00:00",
          "2025-02-26T00:00:00",
          "2025-02-25T00:00:00",
          "2025-02-24T00:00:00",
          "2025-02-23T00:00:00",
          "2025-02-22T00:00:00",
          "2025-02-21T00:00:00",
          "2025-02-20T00:00:00",
          "2025-02-19T00:00:00",
          "2025-02-18T00:00:00",
          "2025-02-17T00:00:00",
          "2025-02-16T00:00:00",
          "2025-02-15T00:00:00",
          "2025-02-14T00:00:00",
          "2025-02-13T00:00:00",
          "2025-02-12T00:00:00",
          "2025-02-11T00:00:00",
          "2025-02-10T00:00:00",
          "2025-02-09T00:00:00",
          "2025-02-08T00:00:00",
          "2025-02-07T00:00:00",
          "2025-02-06T00:00:00",
          "2025-02-05T00:00:00",
          "2025-02-04T00:00:00",
          "2025-02-03T00:00:00",
          "2025-02-02T00:00:00",
          "2025-02-01T00:00:00",
          "2025-01-31T00:00:00",
          "2025-01-30T00:00:00",
          "2025-01-29T00:00:00",
          "2025-01-28T00:00:00",
          "2025-01-27T00:00:00",
          "2025-01-26T00:00:00",
          "2025-01-25T00:00:00",
          "2025-01-24T00:00:00",
          "2025-01-23T00:00:00",
          "2025-01-22T00:00:00",
          "2025-01-21T00:00:00",
          "2025-01-20T00:00:00",
          "2025-01-19T00:00:00",
          "2025-01-18T00:00:00",
          "2025-01-17T00:00:00",
          "2025-01-16T00:00:00",
          "2025-01-15T00:00:00",
          "2025-01-14T00:00:00",
          "2025-01-13T00:00:00",
          "2025-01-12T00:00:00",
          "2025-01-11T00:00:00",
          "2025-01-10T00:00:00",
          "2025-01-09T00:00:00",
          "2025-01-08T00:00:00",
          "2025-01-07T00:00:00",
          "2025-01-06T00:00:00",
          "2025-01-05T00:00:00",
          "2025-01-04T00:00:00",
          "2025-01-03T00:00:00",
          "2025-01-02T00:00:00",
          "2025-01-01T00:00:00",
          "2024-12-31T00:00:00",
          "2024-12-30T00:00:00",
          "2024-12-29T00:00:00",
          "2024-12-28T00:00:00",
          "2024-12-27T00:00:00",
          "2024-12-26T00:00:00",
          "2024-12-25T00:00:00",
          "2024-12-24T00:00:00",
          "2024-12-23T00:00:00",
          "2024-12-22T00:00:00",
          "2024-12-21T00:00:00",
          "2024-12-20T00:00:00",
          "2024-12-19T00:00:00",
          "2024-12-18T00:00:00",
          "2024-12-17T00:00:00",
          "2024-12-16T00:00:00",
          "2024-12-15T00:00:00",
          "2024-12-14T00:00:00",
          "2024-12-13T00:00:00",
          "2024-12-12T00:00:00",
          "2024-12-11T00:00:00",
          "2024-12-10T00:00:00",
          "2024-12-09T00:00:00",
          "2024-12-08T00:00:00",
          "2024-12-07T00:00:00",
          "2024-12-06T00:00:00",
          "2024-12-05T00:00:00",
          "2024-12-04T00:00:00",
          "2024-12-03T00:00:00",
          "2024-12-02T00:00:00",
          "2024-12-01T00:00:00",
          "2024-11-30T00:00:00",
          "2024-11-29T00:00:00",
          "2024-11-28T00:00:00",
          "2024-11-27T00:00:00",
          "2024-11-26T00:00:00",
          "2024-11-25T00:00:00",
          "2024-11-24T00:00:00",
          "2024-11-23T00:00:00",
          "2024-11-22T00:00:00",
          "2024-11-21T00:00:00",
          "2024-11-20T00:00:00",
          "2024-11-19T00:00:00",
          "2024-11-18T00:00:00",
          "2024-11-17T00:00:00",
          "2024-11-16T00:00:00",
          "2024-11-15T00:00:00",
          "2024-11-14T00:00:00",
          "2024-11-13T00:00:00",
          "2024-11-12T00:00:00",
          "2024-11-11T00:00:00",
          "2024-11-10T00:00:00",
          "2024-11-09T00:00:00",
          "2024-11-08T00:00:00",
          "2024-11-07T00:00:00",
          "2024-11-06T00:00:00",
          "2024-11-05T00:00:00",
          "2024-11-04T00:00:00",
          "2024-11-03T00:00:00",
          "2024-11-02T00:00:00",
          "2024-11-01T00:00:00",
          "2024-10-31T00:00:00",
          "2024-10-30T00:00:00",
          "2024-10-29T00:00:00",
          "2024-10-28T00:00:00",
          "2024-10-27T00:00:00",
          "2024-10-26T00:00:00",
          "2024-10-25T00:00:00",
          "2024-10-24T00:00:00",
          "2024-10-23T00:00:00",
          "2024-10-22T00:00:00",
          "2024-10-21T00:00:00",
          "2024-10-20T00:00:00",
          "2024-10-19T00:00:00",
          "2024-10-18T00:00:00",
          "2024-10-17T00:00:00",
          "2024-10-16T00:00:00",
          "2024-10-15T00:00:00",
          "2024-10-14T00:00:00",
          "2024-10-13T00:00:00",
          "2024-10-12T00:00:00",
          "2024-10-11T00:00:00",
          "2024-10-10T00:00:00",
          "2024-10-09T00:00:00",
          "2024-10-08T00:00:00",
          "2024-10-07T00:00:00",
          "2024-10-06T00:00:00",
          "2024-10-05T00:00:00",
          "2024-10-04T00:00:00",
          "2024-10-03T00:00:00",
          "2024-10-02T00:00:00",
          "2024-10-01T00:00:00",
          "2024-09-30T00:00:00",
          "2024-09-29T00:00:00",
          "2024-09-28T00:00:00",
          "2024-09-27T00:00:00",
          "2024-09-26T00:00:00",
          "2024-09-25T00:00:00",
          "2024-09-24T00:00:00",
          "2024-09-23T00:00:00",
          "2024-09-22T00:00:00",
          "2024-09-21T00:00:00",
          "2024-09-20T00:00:00",
          "2024-09-19T00:00:00",
          "2024-09-18T00:00:00",
          "2024-09-17T00:00:00",
          "2024-09-16T00:00:00",
          "2024-09-15T00:00:00",
          "2024-09-14T00:00:00",
          "2024-09-13T00:00:00",
          "2024-09-12T00:00:00",
          "2024-09-11T00:00:00",
          "2024-09-10T00:00:00",
          "2024-09-09T00:00:00",
          "2024-09-08T00:00:00",
          "2024-09-07T00:00:00",
          "2024-09-06T00:00:00",
          "2024-09-05T00:00:00",
          "2024-09-04T00:00:00",
          "2024-09-03T00:00:00",
          "2024-09-02T00:00:00",
          "2024-09-01T00:00:00",
          "2024-08-31T00:00:00",
          "2024-08-30T00:00:00",
          "2024-08-29T00:00:00",
          "2024-08-28T00:00:00",
          "2024-08-27T00:00:00",
          "2024-08-26T00:00:00",
          "2024-08-25T00:00:00",
          "2024-08-24T00:00:00",
          "2024-08-23T00:00:00",
          "2024-08-22T00:00:00",
          "2024-08-21T00:00:00",
          "2024-08-20T00:00:00",
          "2024-08-19T00:00:00",
          "2024-08-18T00:00:00",
          "2024-08-17T00:00:00",
          "2024-08-16T00:00:00",
          "2024-08-15T00:00:00",
          "2024-08-14T00:00:00",
          "2024-08-13T00:00:00",
          "2024-08-12T00:00:00",
          "2024-08-11T00:00:00",
          "2024-08-10T00:00:00",
          "2024-08-09T00:00:00",
          "2024-08-08T00:00:00",
          "2024-08-07T00:00:00",
          "2024-08-06T00:00:00",
          "2024-08-05T00:00:00",
          "2024-08-04T00:00:00",
          "2024-08-03T00:00:00",
          "2024-08-02T00:00:00",
          "2024-08-01T00:00:00",
          "2024-07-31T00:00:00",
          "2024-07-30T00:00:00",
          "2024-07-29T00:00:00",
          "2024-07-28T00:00:00",
          "2024-07-27T00:00:00",
          "2024-07-26T00:00:00",
          "2024-07-25T00:00:00",
          "2024-07-24T00:00:00",
          "2024-07-23T00:00:00",
          "2024-07-22T00:00:00",
          "2024-07-21T00:00:00",
          "2024-07-20T00:00:00",
          "2024-07-19T00:00:00",
          "2024-07-18T00:00:00",
          "2024-07-17T00:00:00",
          "2024-07-16T00:00:00",
          "2024-07-15T00:00:00",
          "2024-07-14T00:00:00",
          "2024-07-13T00:00:00",
          "2024-07-12T00:00:00",
          "2024-07-11T00:00:00",
          "2024-07-10T00:00:00",
          "2024-07-09T00:00:00",
          "2024-07-08T00:00:00",
          "2024-07-07T00:00:00",
          "2024-07-06T00:00:00",
          "2024-07-05T00:00:00",
          "2024-07-04T00:00:00",
          "2024-07-03T00:00:00",
          "2024-07-02T00:00:00",
          "2024-07-01T00:00:00",
          "2024-06-30T00:00:00",
          "2024-06-29T00:00:00",
          "2024-06-28T00:00:00",
          "2024-06-27T00:00:00",
          "2024-06-26T00:00:00",
          "2024-06-25T00:00:00",
          "2024-06-24T00:00:00",
          "2024-06-23T00:00:00",
          "2024-06-22T00:00:00",
          "2024-06-21T00:00:00",
          "2024-06-20T00:00:00",
          "2024-06-19T00:00:00",
          "2024-06-18T00:00:00",
          "2024-06-17T00:00:00",
          "2024-06-16T00:00:00",
          "2024-06-15T00:00:00",
          "2024-06-14T00:00:00",
          "2024-06-13T00:00:00",
          "2024-06-12T00:00:00",
          "2024-06-11T00:00:00",
          "2024-06-10T00:00:00",
          "2024-06-09T00:00:00",
          "2024-06-08T00:00:00",
          "2024-06-07T00:00:00",
          "2024-06-06T00:00:00",
          "2024-06-05T00:00:00",
          "2024-06-04T00:00:00",
          "2024-06-03T00:00:00",
          "2024-06-02T00:00:00",
          "2024-06-01T00:00:00",
          "2024-05-31T00:00:00",
          "2024-05-30T00:00:00",
          "2024-05-29T00:00:00",
          "2024-05-28T00:00:00",
          "2024-05-27T00:00:00",
          "2024-05-26T00:00:00",
          "2024-05-25T00:00:00",
          "2024-05-24T00:00:00",
          "2024-05-23T00:00:00",
          "2024-05-22T00:00:00",
          "2024-05-21T00:00:00",
          "2024-05-20T00:00:00",
          "2024-05-19T00:00:00",
          "2024-05-18T00:00:00",
          "2024-05-17T00:00:00",
          "2024-05-16T00:00:00",
          "2024-05-15T00:00:00",
          "2024-05-14T00:00:00",
          "2024-05-13T00:00:00",
          "2024-05-12T00:00:00",
          "2024-05-11T00:00:00",
          "2024-05-10T00:00:00",
          "2024-05-09T00:00:00",
          "2024-05-08T00:00:00",
          "2024-05-07T00:00:00",
          "2024-05-06T00:00:00",
          "2024-05-05T00:00:00",
          "2024-05-04T00:00:00",
          "2024-05-03T00:00:00",
          "2024-05-02T00:00:00",
          "2024-05-01T00:00:00",
          "2024-04-30T00:00:00",
          "2024-04-29T00:00:00",
          "2024-04-28T00:00:00",
          "2024-04-27T00:00:00",
          "2024-04-26T00:00:00",
          "2024-04-25T00:00:00",
          "2024-04-24T00:00:00",
          "2024-04-23T00:00:00",
          "2024-04-22T00:00:00",
          "2024-04-21T00:00:00",
          "2024-04-20T00:00:00",
          "2024-04-19T00:00:00"
         ],
         "y": [
          1.41,
          5.97,
          6.27,
          3.53,
          6.32,
          5.71,
          9.34,
          2.99,
          4.15,
          8.73,
          5.14,
          5.18,
          4.54,
          10.26,
          3.98,
          4.17,
          5.67,
          6.05,
          5.11,
          4.85,
          3.62,
          7.74,
          5.01,
          8.26,
          9.66,
          7.78,
          7.41,
          6.15,
          4.54,
          4.87,
          2.67,
          3.73,
          4.76,
          2.9,
          3.33,
          4.01,
          4.07,
          4.49,
          4.01,
          5.79,
          6.46,
          8.09,
          5.86,
          4.33,
          3.96,
          4.66,
          7.48,
          7.13,
          7.52,
          4.68,
          5.36,
          5.78,
          2.24,
          4.49,
          4.43,
          6.53,
          3.57,
          4.67,
          4.67,
          4.88,
          4.71,
          8.23,
          7.82,
          2.65,
          2.76,
          3.03,
          1.47,
          5.59,
          11.07,
          11.15,
          3.34,
          1.76,
          4.42,
          3.21,
          4.96,
          2.85,
          4.51,
          3.87,
          3.08,
          4.47,
          4.8,
          4.3,
          4.89,
          5.65,
          3.73,
          2.66,
          4.55,
          2.6,
          4.64,
          3.56,
          10.22,
          4.21,
          3.21,
          4.85,
          2.44,
          4.61,
          4.69,
          6.41,
          4.14,
          5.83,
          4.54,
          1.91,
          1.98,
          3.61,
          2.72,
          5.4,
          2.71,
          4.7,
          13.48,
          8.19,
          9.4,
          3.62,
          5.26,
          4.21,
          1.78,
          4.38,
          4.16,
          3.65,
          5.48,
          5.17,
          3.82,
          4.78,
          5.37,
          2.98,
          5.5,
          7.59,
          1.97,
          2.06,
          2.02,
          1.47,
          6.95,
          4.79,
          8.75,
          2.86,
          4.15,
          5.99,
          1.86,
          6.92,
          7.75,
          19.13,
          13.61,
          5.13,
          2.95,
          2.96,
          2.39,
          4.1,
          7.02,
          2.62,
          1.64,
          1.48,
          2.6,
          5.27,
          1.66,
          6.57,
          3.98,
          1.5,
          1.79,
          5.05,
          2.07,
          4.13,
          12.86,
          3.88,
          5.29,
          6.68,
          2.63,
          4.82,
          7.28,
          6.38,
          7.22,
          2.99,
          1.8,
          1.93,
          4.59,
          8.9,
          14.26,
          7.23,
          6.26,
          5.12,
          2.44,
          2.49,
          7.4,
          10.68,
          4.05,
          2.07,
          1.73,
          2.27,
          2.29,
          2.75,
          5.55,
          7.3,
          2.09,
          3.49,
          2.06,
          1.43,
          2.39,
          2.75,
          1.3,
          1.56,
          1.66,
          1.8,
          1.5,
          10.79,
          8.52,
          2.81,
          1.57,
          4.39,
          2.08,
          1.98,
          8.62,
          8.02,
          1.66,
          2.96,
          2.91,
          1.74,
          1.94,
          2.3,
          10.61,
          2.68,
          4.79,
          2.97,
          1.66,
          3.4,
          4.14,
          13.21,
          4.35,
          1.58,
          1.7,
          3,
          2.82,
          4.91,
          18.02,
          4.52,
          3.17,
          2.88,
          1.56,
          2,
          3.03,
          5.48,
          1.77,
          1.59,
          1.98,
          1.87,
          2.51,
          12.08,
          4.09,
          3.97,
          2,
          2.17,
          1.68,
          2.1,
          2.45,
          2.6,
          3.02,
          2.95,
          2.75,
          3,
          3.07,
          6.95,
          10.13,
          7.29,
          2.99,
          2.12,
          2.41,
          2.33,
          3.31,
          11.84,
          5.54,
          2.2,
          1.36,
          2.18,
          3.16,
          1.49,
          9.37,
          3.45,
          2.25,
          2.63,
          1.57,
          2.12,
          12.13,
          9.26,
          2.57,
          2.18,
          2.06,
          3.59,
          3.28,
          3.33,
          11.2,
          10.39,
          13.13,
          4.4,
          11.81,
          8.32,
          12.74,
          3.28,
          12.49,
          2.96,
          8.12,
          13.2,
          5.45,
          7.34,
          14.48,
          9.1,
          17.14,
          2.63,
          3.09,
          2.34,
          2.94,
          6.13,
          7.86,
          10.58,
          10.43,
          3.56,
          2.44,
          2.26,
          11.81,
          2.93,
          2.43,
          1.67,
          4.36,
          2.38,
          6.29,
          11.96,
          3.57,
          1.5,
          4.38,
          1.93,
          14.31,
          8.07,
          8.51,
          3.52,
          2.09,
          1.86,
          3.16,
          2.2,
          15.11,
          4.06,
          4.81,
          2.08,
          2.25,
          3.93,
          2.79,
          9.72,
          10.11,
          3.51,
          10.42,
          2.37,
          1.58,
          4.36,
          1.93,
          4.05,
          2.86,
          1.96,
          1.9,
          2.09,
          2.84,
          3.3,
          7.16,
          3.84,
          1.86,
          2.39,
          2.56,
          2.38,
          3.08,
          3.37,
          2.99
         ]
        },
        {
         "hovertemplate": "Average: %{y:.2f} mi<extra></extra>",
         "line": {
          "color": "firebrick",
          "dash": "dash",
          "width": 2
         },
         "mode": "lines",
         "name": "Average",
         "type": "scatter",
         "x": [
          "2024-04-19T00:00:00",
          "2025-04-18T00:00:00"
         ],
         "y": [
          4.839890410958905,
          4.839890410958905
         ]
        }
       ],
       "layout": {
        "autosize": true,
        "template": {
         "data": {
          "bar": [
           {
            "error_x": {
             "color": "#2a3f5f"
            },
            "error_y": {
             "color": "#2a3f5f"
            },
            "marker": {
             "line": {
              "color": "white",
              "width": 0.5
             },
             "pattern": {
              "fillmode": "overlay",
              "size": 10,
              "solidity": 0.2
             }
            },
            "type": "bar"
           }
          ],
          "barpolar": [
           {
            "marker": {
             "line": {
              "color": "white",
              "width": 0.5
             },
             "pattern": {
              "fillmode": "overlay",
              "size": 10,
              "solidity": 0.2
             }
            },
            "type": "barpolar"
           }
          ],
          "carpet": [
           {
            "aaxis": {
             "endlinecolor": "#2a3f5f",
             "gridcolor": "#C8D4E3",
             "linecolor": "#C8D4E3",
             "minorgridcolor": "#C8D4E3",
             "startlinecolor": "#2a3f5f"
            },
            "baxis": {
             "endlinecolor": "#2a3f5f",
             "gridcolor": "#C8D4E3",
             "linecolor": "#C8D4E3",
             "minorgridcolor": "#C8D4E3",
             "startlinecolor": "#2a3f5f"
            },
            "type": "carpet"
           }
          ],
          "choropleth": [
           {
            "colorbar": {
             "outlinewidth": 0,
             "ticks": ""
            },
            "type": "choropleth"
           }
          ],
          "contour": [
           {
            "colorbar": {
             "outlinewidth": 0,
             "ticks": ""
            },
            "colorscale": [
             [
              0,
              "#0d0887"
             ],
             [
              0.1111111111111111,
              "#46039f"
             ],
             [
              0.2222222222222222,
              "#7201a8"
             ],
             [
              0.3333333333333333,
              "#9c179e"
             ],
             [
              0.4444444444444444,
              "#bd3786"
             ],
             [
              0.5555555555555556,
              "#d8576b"
             ],
             [
              0.6666666666666666,
              "#ed7953"
             ],
             [
              0.7777777777777778,
              "#fb9f3a"
             ],
             [
              0.8888888888888888,
              "#fdca26"
             ],
             [
              1,
              "#f0f921"
             ]
            ],
            "type": "contour"
           }
          ],
          "contourcarpet": [
           {
            "colorbar": {
             "outlinewidth": 0,
             "ticks": ""
            },
            "type": "contourcarpet"
           }
          ],
          "heatmap": [
           {
            "colorbar": {
             "outlinewidth": 0,
             "ticks": ""
            },
            "colorscale": [
             [
              0,
              "#0d0887"
             ],
             [
              0.1111111111111111,
              "#46039f"
             ],
             [
              0.2222222222222222,
              "#7201a8"
             ],
             [
              0.3333333333333333,
              "#9c179e"
             ],
             [
              0.4444444444444444,
              "#bd3786"
             ],
             [
              0.5555555555555556,
              "#d8576b"
             ],
             [
              0.6666666666666666,
              "#ed7953"
             ],
             [
              0.7777777777777778,
              "#fb9f3a"
             ],
             [
              0.8888888888888888,
              "#fdca26"
             ],
             [
              1,
              "#f0f921"
             ]
            ],
            "type": "heatmap"
           }
          ],
          "heatmapgl": [
           {
            "colorbar": {
             "outlinewidth": 0,
             "ticks": ""
            },
            "colorscale": [
             [
              0,
              "#0d0887"
             ],
             [
              0.1111111111111111,
              "#46039f"
             ],
             [
              0.2222222222222222,
              "#7201a8"
             ],
             [
              0.3333333333333333,
              "#9c179e"
             ],
             [
              0.4444444444444444,
              "#bd3786"
             ],
             [
              0.5555555555555556,
              "#d8576b"
             ],
             [
              0.6666666666666666,
              "#ed7953"
             ],
             [
              0.7777777777777778,
              "#fb9f3a"
             ],
             [
              0.8888888888888888,
              "#fdca26"
             ],
             [
              1,
              "#f0f921"
             ]
            ],
            "type": "heatmapgl"
           }
          ],
          "histogram": [
           {
            "marker": {
             "pattern": {
              "fillmode": "overlay",
              "size": 10,
              "solidity": 0.2
             }
            },
            "type": "histogram"
           }
          ],
          "histogram2d": [
           {
            "colorbar": {
             "outlinewidth": 0,
             "ticks": ""
            },
            "colorscale": [
             [
              0,
              "#0d0887"
             ],
             [
              0.1111111111111111,
              "#46039f"
             ],
             [
              0.2222222222222222,
              "#7201a8"
             ],
             [
              0.3333333333333333,
              "#9c179e"
             ],
             [
              0.4444444444444444,
              "#bd3786"
             ],
             [
              0.5555555555555556,
              "#d8576b"
             ],
             [
              0.6666666666666666,
              "#ed7953"
             ],
             [
              0.7777777777777778,
              "#fb9f3a"
             ],
             [
              0.8888888888888888,
              "#fdca26"
             ],
             [
              1,
              "#f0f921"
             ]
            ],
            "type": "histogram2d"
           }
          ],
          "histogram2dcontour": [
           {
            "colorbar": {
             "outlinewidth": 0,
             "ticks": ""
            },
            "colorscale": [
             [
              0,
              "#0d0887"
             ],
             [
              0.1111111111111111,
              "#46039f"
             ],
             [
              0.2222222222222222,
              "#7201a8"
             ],
             [
              0.3333333333333333,
              "#9c179e"
             ],
             [
              0.4444444444444444,
              "#bd3786"
             ],
             [
              0.5555555555555556,
              "#d8576b"
             ],
             [
              0.6666666666666666,
              "#ed7953"
             ],
             [
              0.7777777777777778,
              "#fb9f3a"
             ],
             [
              0.8888888888888888,
              "#fdca26"
             ],
             [
              1,
              "#f0f921"
             ]
            ],
            "type": "histogram2dcontour"
           }
          ],
          "mesh3d": [
           {
            "colorbar": {
             "outlinewidth": 0,
             "ticks": ""
            },
            "type": "mesh3d"
           }
          ],
          "parcoords": [
           {
            "line": {
             "colorbar": {
              "outlinewidth": 0,
              "ticks": ""
             }
            },
            "type": "parcoords"
           }
          ],
          "pie": [
           {
            "automargin": true,
            "type": "pie"
           }
          ],
          "scatter": [
           {
            "fillpattern": {
             "fillmode": "overlay",
             "size": 10,
             "solidity": 0.2
            },
            "type": "scatter"
           }
          ],
          "scatter3d": [
           {
            "line": {
             "colorbar": {
              "outlinewidth": 0,
              "ticks": ""
             }
            },
            "marker": {
             "colorbar": {
              "outlinewidth": 0,
              "ticks": ""
             }
            },
            "type": "scatter3d"
           }
          ],
          "scattercarpet": [
           {
            "marker": {
             "colorbar": {
              "outlinewidth": 0,
              "ticks": ""
             }
            },
            "type": "scattercarpet"
           }
          ],
          "scattergeo": [
           {
            "marker": {
             "colorbar": {
              "outlinewidth": 0,
              "ticks": ""
             }
            },
            "type": "scattergeo"
           }
          ],
          "scattergl": [
           {
            "marker": {
             "colorbar": {
              "outlinewidth": 0,
              "ticks": ""
             }
            },
            "type": "scattergl"
           }
          ],
          "scattermapbox": [
           {
            "marker": {
             "colorbar": {
              "outlinewidth": 0,
              "ticks": ""
             }
            },
            "type": "scattermapbox"
           }
          ],
          "scatterpolar": [
           {
            "marker": {
             "colorbar": {
              "outlinewidth": 0,
              "ticks": ""
             }
            },
            "type": "scatterpolar"
           }
          ],
          "scatterpolargl": [
           {
            "marker": {
             "colorbar": {
              "outlinewidth": 0,
              "ticks": ""
             }
            },
            "type": "scatterpolargl"
           }
          ],
          "scatterternary": [
           {
            "marker": {
             "colorbar": {
              "outlinewidth": 0,
              "ticks": ""
             }
            },
            "type": "scatterternary"
           }
          ],
          "surface": [
           {
            "colorbar": {
             "outlinewidth": 0,
             "ticks": ""
            },
            "colorscale": [
             [
              0,
              "#0d0887"
             ],
             [
              0.1111111111111111,
              "#46039f"
             ],
             [
              0.2222222222222222,
              "#7201a8"
             ],
             [
              0.3333333333333333,
              "#9c179e"
             ],
             [
              0.4444444444444444,
              "#bd3786"
             ],
             [
              0.5555555555555556,
              "#d8576b"
             ],
             [
              0.6666666666666666,
              "#ed7953"
             ],
             [
              0.7777777777777778,
              "#fb9f3a"
             ],
             [
              0.8888888888888888,
              "#fdca26"
             ],
             [
              1,
              "#f0f921"
             ]
            ],
            "type": "surface"
           }
          ],
          "table": [
           {
            "cells": {
             "fill": {
              "color": "#EBF0F8"
             },
             "line": {
              "color": "white"
             }
            },
            "header": {
             "fill": {
              "color": "#C8D4E3"
             },
             "line": {
              "color": "white"
             }
            },
            "type": "table"
           }
          ]
         },
         "layout": {
          "annotationdefaults": {
           "arrowcolor": "#2a3f5f",
           "arrowhead": 0,
           "arrowwidth": 1
          },
          "autotypenumbers": "strict",
          "coloraxis": {
           "colorbar": {
            "outlinewidth": 0,
            "ticks": ""
           }
          },
          "colorscale": {
           "diverging": [
            [
             0,
             "#8e0152"
            ],
            [
             0.1,
             "#c51b7d"
            ],
            [
             0.2,
             "#de77ae"
            ],
            [
             0.3,
             "#f1b6da"
            ],
            [
             0.4,
             "#fde0ef"
            ],
            [
             0.5,
             "#f7f7f7"
            ],
            [
             0.6,
             "#e6f5d0"
            ],
            [
             0.7,
             "#b8e186"
            ],
            [
             0.8,
             "#7fbc41"
            ],
            [
             0.9,
             "#4d9221"
            ],
            [
             1,
             "#276419"
            ]
           ],
           "sequential": [
            [
             0,
             "#0d0887"
            ],
            [
             0.1111111111111111,
             "#46039f"
            ],
            [
             0.2222222222222222,
             "#7201a8"
            ],
            [
             0.3333333333333333,
             "#9c179e"
            ],
            [
             0.4444444444444444,
             "#bd3786"
            ],
            [
             0.5555555555555556,
             "#d8576b"
            ],
            [
             0.6666666666666666,
             "#ed7953"
            ],
            [
             0.7777777777777778,
             "#fb9f3a"
            ],
            [
             0.8888888888888888,
             "#fdca26"
            ],
            [
             1,
             "#f0f921"
            ]
           ],
           "sequentialminus": [
            [
             0,
             "#0d0887"
            ],
            [
             0.1111111111111111,
             "#46039f"
            ],
            [
             0.2222222222222222,
             "#7201a8"
            ],
            [
             0.3333333333333333,
             "#9c179e"
            ],
            [
             0.4444444444444444,
             "#bd3786"
            ],
            [
             0.5555555555555556,
             "#d8576b"
            ],
            [
             0.6666666666666666,
             "#ed7953"
            ],
            [
             0.7777777777777778,
             "#fb9f3a"
            ],
            [
             0.8888888888888888,
             "#fdca26"
            ],
            [
             1,
             "#f0f921"
            ]
           ]
          },
          "colorway": [
           "#636efa",
           "#EF553B",
           "#00cc96",
           "#ab63fa",
           "#FFA15A",
           "#19d3f3",
           "#FF6692",
           "#B6E880",
           "#FF97FF",
           "#FECB52"
          ],
          "font": {
           "color": "#2a3f5f"
          },
          "geo": {
           "bgcolor": "white",
           "lakecolor": "white",
           "landcolor": "white",
           "showlakes": true,
           "showland": true,
           "subunitcolor": "#C8D4E3"
          },
          "hoverlabel": {
           "align": "left"
          },
          "hovermode": "closest",
          "mapbox": {
           "style": "light"
          },
          "paper_bgcolor": "white",
          "plot_bgcolor": "white",
          "polar": {
           "angularaxis": {
            "gridcolor": "#EBF0F8",
            "linecolor": "#EBF0F8",
            "ticks": ""
           },
           "bgcolor": "white",
           "radialaxis": {
            "gridcolor": "#EBF0F8",
            "linecolor": "#EBF0F8",
            "ticks": ""
           }
          },
          "scene": {
           "xaxis": {
            "backgroundcolor": "white",
            "gridcolor": "#DFE8F3",
            "gridwidth": 2,
            "linecolor": "#EBF0F8",
            "showbackground": true,
            "ticks": "",
            "zerolinecolor": "#EBF0F8"
           },
           "yaxis": {
            "backgroundcolor": "white",
            "gridcolor": "#DFE8F3",
            "gridwidth": 2,
            "linecolor": "#EBF0F8",
            "showbackground": true,
            "ticks": "",
            "zerolinecolor": "#EBF0F8"
           },
           "zaxis": {
            "backgroundcolor": "white",
            "gridcolor": "#DFE8F3",
            "gridwidth": 2,
            "linecolor": "#EBF0F8",
            "showbackground": true,
            "ticks": "",
            "zerolinecolor": "#EBF0F8"
           }
          },
          "shapedefaults": {
           "line": {
            "color": "#2a3f5f"
           }
          },
          "ternary": {
           "aaxis": {
            "gridcolor": "#DFE8F3",
            "linecolor": "#A2B1C6",
            "ticks": ""
           },
           "baxis": {
            "gridcolor": "#DFE8F3",
            "linecolor": "#A2B1C6",
            "ticks": ""
           },
           "bgcolor": "white",
           "caxis": {
            "gridcolor": "#DFE8F3",
            "linecolor": "#A2B1C6",
            "ticks": ""
           }
          },
          "title": {
           "x": 0.05
          },
          "xaxis": {
           "automargin": true,
           "gridcolor": "#EBF0F8",
           "linecolor": "#EBF0F8",
           "ticks": "",
           "title": {
            "standoff": 15
           },
           "zerolinecolor": "#EBF0F8",
           "zerolinewidth": 2
          },
          "yaxis": {
           "automargin": true,
           "gridcolor": "#EBF0F8",
           "linecolor": "#EBF0F8",
           "ticks": "",
           "title": {
            "standoff": 15
           },
           "zerolinecolor": "#EBF0F8",
           "zerolinewidth": 2
          }
         }
        },
        "title": {
         "text": "Distance Walking by Date"
        },
        "xaxis": {
         "autorange": false,
         "range": [
          "2025-02-26 05:10:54.7249",
          "2025-04-24 21:18:19.0337"
         ],
         "title": {
          "text": "Date"
         },
         "type": "date"
        },
        "yaxis": {
         "autorange": false,
         "range": [
          -0.006019108280254537,
          11.657766900714966
         ],
         "title": {
          "text": "Distance (miles)"
         },
         "type": "linear"
        }
       }
      },
      "image/png": "[encoded data removed]",
      "text/html": [
       "<div>                            <div id=\"484b11ed-89e0-42fc-928a-e3106040cca2\" class=\"plotly-graph-div\" style=\"height:450px; width:100%;\"></div>            <script type=\"text/javascript\">                require([\"plotly\"], function(Plotly) {                    window.PLOTLYENV=window.PLOTLYENV || {};                                    if (document.getElementById(\"484b11ed-89e0-42fc-928a-e3106040cca2\")) {                    Plotly.newPlot(                        \"484b11ed-89e0-42fc-928a-e3106040cca2\",                        [{\"hovertemplate\":\"%{x|%b %d, %Y}\\u003cbr\\u003eDistance: %{y:.2f} mi\",\"line\":{\"color\":\"mediumseagreen\"},\"mode\":\"lines+markers\",\"name\":\"Distance Walking\",\"x\":[\"2025-04-18T00:00:00\",\"2025-04-17T00:00:00\",\"2025-04-16T00:00:00\",\"2025-04-15T00:00:00\",\"2025-04-14T00:00:00\",\"2025-04-13T00:00:00\",\"2025-04-12T00:00:00\",\"2025-04-11T00:00:00\",\"2025-04-10T00:00:00\",\"2025-04-09T00:00:00\",\"2025-04-08T00:00:00\",\"2025-04-07T00:00:00\",\"2025-04-06T00:00:00\",\"2025-04-05T00:00:00\",\"2025-04-04T00:00:00\",\"2025-04-03T00:00:00\",\"2025-04-02T00:00:00\",\"2025-04-01T00:00:00\",\"2025-03-31T00:00:00\",\"2025-03-30T00:00:00\",\"2025-03-29T00:00:00\",\"2025-03-28T00:00:00\",\"2025-03-27T00:00:00\",\"2025-03-26T00:00:00\",\"2025-03-25T00:00:00\",\"2025-03-24T00:00:00\",\"2025-03-23T00:00:00\",\"2025-03-22T00:00:00\",\"2025-03-21T00:00:00\",\"2025-03-20T00:00:00\",\"2025-03-19T00:00:00\",\"2025-03-18T00:00:00\",\"2025-03-17T00:00:00\",\"2025-03-16T00:00:00\",\"2025-03-15T00:00:00\",\"2025-03-14T00:00:00\",\"2025-03-13T00:00:00\",\"2025-03-12T00:00:00\",\"2025-03-11T00:00:00\",\"2025-03-10T00:00:00\",\"2025-03-09T00:00:00\",\"2025-03-08T00:00:00\",\"2025-03-07T00:00:00\",\"2025-03-06T00:00:00\",\"2025-03-05T00:00:00\",\"2025-03-04T00:00:00\",\"2025-03-03T00:00:00\",\"2025-03-02T00:00:00\",\"2025-03-01T00:00:00\",\"2025-02-28T00:00:00\",\"2025-02-27T00:00:00\",\"2025-02-26T00:00:00\",\"2025-02-25T00:00:00\",\"2025-02-24T00:00:00\",\"2025-02-23T00:00:00\",\"2025-02-22T00:00:00\",\"2025-02-21T00:00:00\",\"2025-02-20T00:00:00\",\"2025-02-19T00:00:00\",\"2025-02-18T00:00:00\",\"2025-02-17T00:00:00\",\"2025-02-16T00:00:00\",\"2025-02-15T00:00:00\",\"2025-02-14T00:00:00\",\"2025-02-13T00:00:00\",\"2025-02-12T00:00:00\",\"2025-02-11T00:00:00\",\"2025-02-10T00:00:00\",\"2025-02-09T00:00:00\",\"2025-02-08T00:00:00\",\"2025-02-07T00:00:00\",\"2025-02-06T00:00:00\",\"2025-02-05T00:00:00\",\"2025-02-04T00:00:00\",\"2025-02-03T00:00:00\",\"2025-02-02T00:00:00\",\"2025-02-01T00:00:00\",\"2025-01-31T00:00:00\",\"2025-01-30T00:00:00\",\"2025-01-29T00:00:00\",\"2025-01-28T00:00:00\",\"2025-01-27T00:00:00\",\"2025-01-26T00:00:00\",\"2025-01-25T00:00:00\",\"2025-01-24T00:00:00\",\"2025-01-23T00:00:00\",\"2025-01-22T00:00:00\",\"2025-01-21T00:00:00\",\"2025-01-20T00:00:00\",\"2025-01-19T00:00:00\",\"2025-01-18T00:00:00\",\"2025-01-17T00:00:00\",\"2025-01-16T00:00:00\",\"2025-01-15T00:00:00\",\"2025-01-14T00:00:00\",\"2025-01-13T00:00:00\",\"2025-01-12T00:00:00\",\"2025-01-11T00:00:00\",\"2025-01-10T00:00:00\",\"2025-01-09T00:00:00\",\"2025-01-08T00:00:00\",\"2025-01-07T00:00:00\",\"2025-01-06T00:00:00\",\"2025-01-05T00:00:00\",\"2025-01-04T00:00:00\",\"2025-01-03T00:00:00\",\"2025-01-02T00:00:00\",\"2025-01-01T00:00:00\",\"2024-12-31T00:00:00\",\"2024-12-30T00:00:00\",\"2024-12-29T00:00:00\",\"2024-12-28T00:00:00\",\"2024-12-27T00:00:00\",\"2024-12-26T00:00:00\",\"2024-12-25T00:00:00\",\"2024-12-24T00:00:00\",\"2024-12-23T00:00:00\",\"2024-12-22T00:00:00\",\"2024-12-21T00:00:00\",\"2024-12-20T00:00:00\",\"2024-12-19T00:00:00\",\"2024-12-18T00:00:00\",\"2024-12-17T00:00:00\",\"2024-12-16T00:00:00\",\"2024-12-15T00:00:00\",\"2024-12-14T00:00:00\",\"2024-12-13T00:00:00\",\"2024-12-12T00:00:00\",\"2024-12-11T00:00:00\",\"2024-12-10T00:00:00\",\"2024-12-09T00:00:00\",\"2024-12-08T00:00:00\",\"2024-12-07T00:00:00\",\"2024-12-06T00:00:00\",\"2024-12-05T00:00:00\",\"2024-12-04T00:00:00\",\"2024-12-03T00:00:00\",\"2024-12-02T00:00:00\",\"2024-12-01T00:00:00\",\"2024-11-30T00:00:00\",\"2024-11-29T00:00:00\",\"2024-11-28T00:00:00\",\"2024-11-27T00:00:00\",\"2024-11-26T00:00:00\",\"2024-11-25T00:00:00\",\"2024-11-24T00:00:00\",\"2024-11-23T00:00:00\",\"2024-11-22T00:00:00\",\"2024-11-21T00:00:00\",\"2024-11-20T00:00:00\",\"2024-11-19T00:00:00\",\"2024-11-18T00:00:00\",\"2024-11-17T00:00:00\",\"2024-11-16T00:00:00\",\"2024-11-15T00:00:00\",\"2024-11-14T00:00:00\",\"2024-11-13T00:00:00\",\"2024-11-12T00:00:00\",\"2024-11-11T00:00:00\",\"2024-11-10T00:00:00\",\"2024-11-09T00:00:00\",\"2024-11-08T00:00:00\",\"2024-11-07T00:00:00\",\"2024-11-06T00:00:00\",\"2024-11-05T00:00:00\",\"2024-11-04T00:00:00\",\"2024-11-03T00:00:00\",\"2024-11-02T00:00:00\",\"2024-11-01T00:00:00\",\"2024-10-31T00:00:00\",\"2024-10-30T00:00:00\",\"2024-10-29T00:00:00\",\"2024-10-28T00:00:00\",\"2024-10-27T00:00:00\",\"2024-10-26T00:00:00\",\"2024-10-25T00:00:00\",\"2024-10-24T00:00:00\",\"2024-10-23T00:00:00\",\"2024-10-22T00:00:00\",\"2024-10-21T00:00:00\",\"2024-10-20T00:00:00\",\"2024-10-19T00:00:00\",\"2024-10-18T00:00:00\",\"2024-10-17T00:00:00\",\"2024-10-16T00:00:00\",\"2024-10-15T00:00:00\",\"2024-10-14T00:00:00\",\"2024-10-13T00:00:00\",\"2024-10-12T00:00:00\",\"2024-10-11T00:00:00\",\"2024-10-10T00:00:00\",\"2024-10-09T00:00:00\",\"2024-10-08T00:00:00\",\"2024-10-07T00:00:00\",\"2024-10-06T00:00:00\",\"2024-10-05T00:00:00\",\"2024-10-04T00:00:00\",\"2024-10-03T00:00:00\",\"2024-10-02T00:00:00\",\"2024-10-01T00:00:00\",\"2024-09-30T00:00:00\",\"2024-09-29T00:00:00\",\"2024-09-28T00:00:00\",\"2024-09-27T00:00:00\",\"2024-09-26T00:00:00\",\"2024-09-25T00:00:00\",\"2024-09-24T00:00:00\",\"2024-09-23T00:00:00\",\"2024-09-22T00:00:00\",\"2024-09-21T00:00:00\",\"2024-09-20T00:00:00\",\"2024-09-19T00:00:00\",\"2024-09-18T00:00:00\",\"2024-09-17T00:00:00\",\"2024-09-16T00:00:00\",\"2024-09-15T00:00:00\",\"2024-09-14T00:00:00\",\"2024-09-13T00:00:00\",\"2024-09-12T00:00:00\",\"2024-09-11T00:00:00\",\"2024-09-10T00:00:00\",\"2024-09-09T00:00:00\",\"2024-09-08T00:00:00\",\"2024-09-07T00:00:00\",\"2024-09-06T00:00:00\",\"2024-09-05T00:00:00\",\"2024-09-04T00:00:00\",\"2024-09-03T00:00:00\",\"2024-09-02T00:00:00\",\"2024-09-01T00:00:00\",\"2024-08-31T00:00:00\",\"2024-08-30T00:00:00\",\"2024-08-29T00:00:00\",\"2024-08-28T00:00:00\",\"2024-08-27T00:00:00\",\"2024-08-26T00:00:00\",\"2024-08-25T00:00:00\",\"2024-08-24T00:00:00\",\"2024-08-23T00:00:00\",\"2024-08-22T00:00:00\",\"2024-08-21T00:00:00\",\"2024-08-20T00:00:00\",\"2024-08-19T00:00:00\",\"2024-08-18T00:00:00\",\"2024-08-17T00:00:00\",\"2024-08-16T00:00:00\",\"2024-08-15T00:00:00\",\"2024-08-14T00:00:00\",\"2024-08-13T00:00:00\",\"2024-08-12T00:00:00\",\"2024-08-11T00:00:00\",\"2024-08-10T00:00:00\",\"2024-08-09T00:00:00\",\"2024-08-08T00:00:00\",\"2024-08-07T00:00:00\",\"2024-08-06T00:00:00\",\"2024-08-05T00:00:00\",\"2024-08-04T00:00:00\",\"2024-08-03T00:00:00\",\"2024-08-02T00:00:00\",\"2024-08-01T00:00:00\",\"2024-07-31T00:00:00\",\"2024-07-30T00:00:00\",\"2024-07-29T00:00:00\",\"2024-07-28T00:00:00\",\"2024-07-27T00:00:00\",\"2024-07-26T00:00:00\",\"2024-07-25T00:00:00\",\"2024-07-24T00:00:00\",\"2024-07-23T00:00:00\",\"2024-07-22T00:00:00\",\"2024-07-21T00:00:00\",\"2024-07-20T00:00:00\",\"2024-07-19T00:00:00\",\"2024-07-18T00:00:00\",\"2024-07-17T00:00:00\",\"2024-07-16T00:00:00\",\"2024-07-15T00:00:00\",\"2024-07-14T00:00:00\",\"2024-07-13T00:00:00\",\"2024-07-12T00:00:00\",\"2024-07-11T00:00:00\",\"2024-07-10T00:00:00\",\"2024-07-09T00:00:00\",\"2024-07-08T00:00:00\",\"2024-07-07T00:00:00\",\"2024-07-06T00:00:00\",\"2024-07-05T00:00:00\",\"2024-07-04T00:00:00\",\"2024-07-03T00:00:00\",\"2024-07-02T00:00:00\",\"2024-07-01T00:00:00\",\"2024-06-30T00:00:00\",\"2024-06-29T00:00:00\",\"2024-06-28T00:00:00\",\"2024-06-27T00:00:00\",\"2024-06-26T00:00:00\",\"2024-06-25T00:00:00\",\"2024-06-24T00:00:00\",\"2024-06-23T00:00:00\",\"2024-06-22T00:00:00\",\"2024-06-21T00:00:00\",\"2024-06-20T00:00:00\",\"2024-06-19T00:00:00\",\"2024-06-18T00:00:00\",\"2024-06-17T00:00:00\",\"2024-06-16T00:00:00\",\"2024-06-15T00:00:00\",\"2024-06-14T00:00:00\",\"2024-06-13T00:00:00\",\"2024-06-12T00:00:00\",\"2024-06-11T00:00:00\",\"2024-06-10T00:00:00\",\"2024-06-09T00:00:00\",\"2024-06-08T00:00:00\",\"2024-06-07T00:00:00\",\"2024-06-06T00:00:00\",\"2024-06-05T00:00:00\",\"2024-06-04T00:00:00\",\"2024-06-03T00:00:00\",\"2024-06-02T00:00:00\",\"2024-06-01T00:00:00\",\"2024-05-31T00:00:00\",\"2024-05-30T00:00:00\",\"2024-05-29T00:00:00\",\"2024-05-28T00:00:00\",\"2024-05-27T00:00:00\",\"2024-05-26T00:00:00\",\"2024-05-25T00:00:00\",\"2024-05-24T00:00:00\",\"2024-05-23T00:00:00\",\"2024-05-22T00:00:00\",\"2024-05-21T00:00:00\",\"2024-05-20T00:00:00\",\"2024-05-19T00:00:00\",\"2024-05-18T00:00:00\",\"2024-05-17T00:00:00\",\"2024-05-16T00:00:00\",\"2024-05-15T00:00:00\",\"2024-05-14T00:00:00\",\"2024-05-13T00:00:00\",\"2024-05-12T00:00:00\",\"2024-05-11T00:00:00\",\"2024-05-10T00:00:00\",\"2024-05-09T00:00:00\",\"2024-05-08T00:00:00\",\"2024-05-07T00:00:00\",\"2024-05-06T00:00:00\",\"2024-05-05T00:00:00\",\"2024-05-04T00:00:00\",\"2024-05-03T00:00:00\",\"2024-05-02T00:00:00\",\"2024-05-01T00:00:00\",\"2024-04-30T00:00:00\",\"2024-04-29T00:00:00\",\"2024-04-28T00:00:00\",\"2024-04-27T00:00:00\",\"2024-04-26T00:00:00\",\"2024-04-25T00:00:00\",\"2024-04-24T00:00:00\",\"2024-04-23T00:00:00\",\"2024-04-22T00:00:00\",\"2024-04-21T00:00:00\",\"2024-04-20T00:00:00\",\"2024-04-19T00:00:00\"],\"y\":[1.41,5.97,6.27,3.53,6.32,5.71,9.34,2.99,4.15,8.73,5.14,5.18,4.54,10.26,3.98,4.17,5.67,6.05,5.11,4.85,3.62,7.74,5.01,8.26,9.66,7.78,7.41,6.15,4.54,4.87,2.67,3.73,4.76,2.9,3.33,4.01,4.07,4.49,4.01,5.79,6.46,8.09,5.86,4.33,3.96,4.66,7.48,7.13,7.52,4.68,5.36,5.78,2.24,4.49,4.43,6.53,3.57,4.67,4.67,4.88,4.71,8.23,7.82,2.65,2.76,3.03,1.47,5.59,11.07,11.15,3.34,1.76,4.42,3.21,4.96,2.85,4.51,3.87,3.08,4.47,4.8,4.3,4.89,5.65,3.73,2.66,4.55,2.6,4.64,3.56,10.22,4.21,3.21,4.85,2.44,4.61,4.69,6.41,4.14,5.83,4.54,1.91,1.98,3.61,2.72,5.4,2.71,4.7,13.48,8.19,9.4,3.62,5.26,4.21,1.78,4.38,4.16,3.65,5.48,5.17,3.82,4.78,5.37,2.98,5.5,7.59,1.97,2.06,2.02,1.47,6.95,4.79,8.75,2.86,4.15,5.99,1.86,6.92,7.75,19.13,13.61,5.13,2.95,2.96,2.39,4.1,7.02,2.62,1.64,1.48,2.6,5.27,1.66,6.57,3.98,1.5,1.79,5.05,2.07,4.13,12.86,3.88,5.29,6.68,2.63,4.82,7.28,6.38,7.22,2.99,1.8,1.93,4.59,8.9,14.26,7.23,6.26,5.12,2.44,2.49,7.4,10.68,4.05,2.07,1.73,2.27,2.29,2.75,5.55,7.3,2.09,3.49,2.06,1.43,2.39,2.75,1.3,1.56,1.66,1.8,1.5,10.79,8.52,2.81,1.57,4.39,2.08,1.98,8.62,8.02,1.66,2.96,2.91,1.74,1.94,2.3,10.61,2.68,4.79,2.97,1.66,3.4,4.14,13.21,4.35,1.58,1.7,3.0,2.82,4.91,18.02,4.52,3.17,2.88,1.56,2.0,3.03,5.48,1.77,1.59,1.98,1.87,2.51,12.08,4.09,3.97,2.0,2.17,1.68,2.1,2.45,2.6,3.02,2.95,2.75,3.0,3.07,6.95,10.13,7.29,2.99,2.12,2.41,2.33,3.31,11.84,5.54,2.2,1.36,2.18,3.16,1.49,9.37,3.45,2.25,2.63,1.57,2.12,12.13,9.26,2.57,2.18,2.06,3.59,3.28,3.33,11.2,10.39,13.13,4.4,11.81,8.32,12.74,3.28,12.49,2.96,8.12,13.2,5.45,7.34,14.48,9.1,17.14,2.63,3.09,2.34,2.94,6.13,7.86,10.58,10.43,3.56,2.44,2.26,11.81,2.93,2.43,1.67,4.36,2.38,6.29,11.96,3.57,1.5,4.38,1.93,14.31,8.07,8.51,3.52,2.09,1.86,3.16,2.2,15.11,4.06,4.81,2.08,2.25,3.93,2.79,9.72,10.11,3.51,10.42,2.37,1.58,4.36,1.93,4.05,2.86,1.96,1.9,2.09,2.84,3.3,7.16,3.84,1.86,2.39,2.56,2.38,3.08,3.37,2.99],\"type\":\"scatter\"},{\"hovertemplate\":\"Average: %{y:.2f} mi\\u003cextra\\u003e\\u003c\\u002fextra\\u003e\",\"line\":{\"color\":\"firebrick\",\"dash\":\"dash\",\"width\":2},\"mode\":\"lines\",\"name\":\"Average\",\"x\":[\"2024-04-19T00:00:00\",\"2025-04-18T00:00:00\"],\"y\":[4.839890410958905,4.839890410958905],\"type\":\"scatter\"}],                        {\"template\":{\"data\":{\"barpolar\":[{\"marker\":{\"line\":{\"color\":\"white\",\"width\":0.5},\"pattern\":{\"fillmode\":\"overlay\",\"size\":10,\"solidity\":0.2}},\"type\":\"barpolar\"}],\"bar\":[{\"error_x\":{\"color\":\"#2a3f5f\"},\"error_y\":{\"color\":\"#2a3f5f\"},\"marker\":{\"line\":{\"color\":\"white\",\"width\":0.5},\"pattern\":{\"fillmode\":\"overlay\",\"size\":10,\"solidity\":0.2}},\"type\":\"bar\"}],\"carpet\":[{\"aaxis\":{\"endlinecolor\":\"#2a3f5f\",\"gridcolor\":\"#C8D4E3\",\"linecolor\":\"#C8D4E3\",\"minorgridcolor\":\"#C8D4E3\",\"startlinecolor\":\"#2a3f5f\"},\"baxis\":{\"endlinecolor\":\"#2a3f5f\",\"gridcolor\":\"#C8D4E3\",\"linecolor\":\"#C8D4E3\",\"minorgridcolor\":\"#C8D4E3\",\"startlinecolor\":\"#2a3f5f\"},\"type\":\"carpet\"}],\"choropleth\":[{\"colorbar\":{\"outlinewidth\":0,\"ticks\":\"\"},\"type\":\"choropleth\"}],\"contourcarpet\":[{\"colorbar\":{\"outlinewidth\":0,\"ticks\":\"\"},\"type\":\"contourcarpet\"}],\"contour\":[{\"colorbar\":{\"outlinewidth\":0,\"ticks\":\"\"},\"colorscale\":[[0.0,\"#0d0887\"],[0.1111111111111111,\"#46039f\"],[0.2222222222222222,\"#7201a8\"],[0.3333333333333333,\"#9c179e\"],[0.4444444444444444,\"#bd3786\"],[0.5555555555555556,\"#d8576b\"],[0.6666666666666666,\"#ed7953\"],[0.7777777777777778,\"#fb9f3a\"],[0.8888888888888888,\"#fdca26\"],[1.0,\"#f0f921\"]],\"type\":\"contour\"}],\"heatmapgl\":[{\"colorbar\":{\"outlinewidth\":0,\"ticks\":\"\"},\"colorscale\":[[0.0,\"#0d0887\"],[0.1111111111111111,\"#46039f\"],[0.2222222222222222,\"#7201a8\"],[0.3333333333333333,\"#9c179e\"],[0.4444444444444444,\"#bd3786\"],[0.5555555555555556,\"#d8576b\"],[0.6666666666666666,\"#ed7953\"],[0.7777777777777778,\"#fb9f3a\"],[0.8888888888888888,\"#fdca26\"],[1.0,\"#f0f921\"]],\"type\":\"heatmapgl\"}],\"heatmap\":[{\"colorbar\":{\"outlinewidth\":0,\"ticks\":\"\"},\"colorscale\":[[0.0,\"#0d0887\"],[0.1111111111111111,\"#46039f\"],[0.2222222222222222,\"#7201a8\"],[0.3333333333333333,\"#9c179e\"],[0.4444444444444444,\"#bd3786\"],[0.5555555555555556,\"#d8576b\"],[0.6666666666666666,\"#ed7953\"],[0.7777777777777778,\"#fb9f3a\"],[0.8888888888888888,\"#fdca26\"],[1.0,\"#f0f921\"]],\"type\":\"heatmap\"}],\"histogram2dcontour\":[{\"colorbar\":{\"outlinewidth\":0,\"ticks\":\"\"},\"colorscale\":[[0.0,\"#0d0887\"],[0.1111111111111111,\"#46039f\"],[0.2222222222222222,\"#7201a8\"],[0.3333333333333333,\"#9c179e\"],[0.4444444444444444,\"#bd3786\"],[0.5555555555555556,\"#d8576b\"],[0.6666666666666666,\"#ed7953\"],[0.7777777777777778,\"#fb9f3a\"],[0.8888888888888888,\"#fdca26\"],[1.0,\"#f0f921\"]],\"type\":\"histogram2dcontour\"}],\"histogram2d\":[{\"colorbar\":{\"outlinewidth\":0,\"ticks\":\"\"},\"colorscale\":[[0.0,\"#0d0887\"],[0.1111111111111111,\"#46039f\"],[0.2222222222222222,\"#7201a8\"],[0.3333333333333333,\"#9c179e\"],[0.4444444444444444,\"#bd3786\"],[0.5555555555555556,\"#d8576b\"],[0.6666666666666666,\"#ed7953\"],[0.7777777777777778,\"#fb9f3a\"],[0.8888888888888888,\"#fdca26\"],[1.0,\"#f0f921\"]],\"type\":\"histogram2d\"}],\"histogram\":[{\"marker\":{\"pattern\":{\"fillmode\":\"overlay\",\"size\":10,\"solidity\":0.2}},\"type\":\"histogram\"}],\"mesh3d\":[{\"colorbar\":{\"outlinewidth\":0,\"ticks\":\"\"},\"type\":\"mesh3d\"}],\"parcoords\":[{\"line\":{\"colorbar\":{\"outlinewidth\":0,\"ticks\":\"\"}},\"type\":\"parcoords\"}],\"pie\":[{\"automargin\":true,\"type\":\"pie\"}],\"scatter3d\":[{\"line\":{\"colorbar\":{\"outlinewidth\":0,\"ticks\":\"\"}},\"marker\":{\"colorbar\":{\"outlinewidth\":0,\"ticks\":\"\"}},\"type\":\"scatter3d\"}],\"scattercarpet\":[{\"marker\":{\"colorbar\":{\"outlinewidth\":0,\"ticks\":\"\"}},\"type\":\"scattercarpet\"}],\"scattergeo\":[{\"marker\":{\"colorbar\":{\"outlinewidth\":0,\"ticks\":\"\"}},\"type\":\"scattergeo\"}],\"scattergl\":[{\"marker\":{\"colorbar\":{\"outlinewidth\":0,\"ticks\":\"\"}},\"type\":\"scattergl\"}],\"scattermapbox\":[{\"marker\":{\"colorbar\":{\"outlinewidth\":0,\"ticks\":\"\"}},\"type\":\"scattermapbox\"}],\"scatterpolargl\":[{\"marker\":{\"colorbar\":{\"outlinewidth\":0,\"ticks\":\"\"}},\"type\":\"scatterpolargl\"}],\"scatterpolar\":[{\"marker\":{\"colorbar\":{\"outlinewidth\":0,\"ticks\":\"\"}},\"type\":\"scatterpolar\"}],\"scatter\":[{\"fillpattern\":{\"fillmode\":\"overlay\",\"size\":10,\"solidity\":0.2},\"type\":\"scatter\"}],\"scatterternary\":[{\"marker\":{\"colorbar\":{\"outlinewidth\":0,\"ticks\":\"\"}},\"type\":\"scatterternary\"}],\"surface\":[{\"colorbar\":{\"outlinewidth\":0,\"ticks\":\"\"},\"colorscale\":[[0.0,\"#0d0887\"],[0.1111111111111111,\"#46039f\"],[0.2222222222222222,\"#7201a8\"],[0.3333333333333333,\"#9c179e\"],[0.4444444444444444,\"#bd3786\"],[0.5555555555555556,\"#d8576b\"],[0.6666666666666666,\"#ed7953\"],[0.7777777777777778,\"#fb9f3a\"],[0.8888888888888888,\"#fdca26\"],[1.0,\"#f0f921\"]],\"type\":\"surface\"}],\"table\":[{\"cells\":{\"fill\":{\"color\":\"#EBF0F8\"},\"line\":{\"color\":\"white\"}},\"header\":{\"fill\":{\"color\":\"#C8D4E3\"},\"line\":{\"color\":\"white\"}},\"type\":\"table\"}]},\"layout\":{\"annotationdefaults\":{\"arrowcolor\":\"#2a3f5f\",\"arrowhead\":0,\"arrowwidth\":1},\"autotypenumbers\":\"strict\",\"coloraxis\":{\"colorbar\":{\"outlinewidth\":0,\"ticks\":\"\"}},\"colorscale\":{\"diverging\":[[0,\"#8e0152\"],[0.1,\"#c51b7d\"],[0.2,\"#de77ae\"],[0.3,\"#f1b6da\"],[0.4,\"#fde0ef\"],[0.5,\"#f7f7f7\"],[0.6,\"#e6f5d0\"],[0.7,\"#b8e186\"],[0.8,\"#7fbc41\"],[0.9,\"#4d9221\"],[1,\"#276419\"]],\"sequential\":[[0.0,\"#0d0887\"],[0.1111111111111111,\"#46039f\"],[0.2222222222222222,\"#7201a8\"],[0.3333333333333333,\"#9c179e\"],[0.4444444444444444,\"#bd3786\"],[0.5555555555555556,\"#d8576b\"],[0.6666666666666666,\"#ed7953\"],[0.7777777777777778,\"#fb9f3a\"],[0.8888888888888888,\"#fdca26\"],[1.0,\"#f0f921\"]],\"sequentialminus\":[[0.0,\"#0d0887\"],[0.1111111111111111,\"#46039f\"],[0.2222222222222222,\"#7201a8\"],[0.3333333333333333,\"#9c179e\"],[0.4444444444444444,\"#bd3786\"],[0.5555555555555556,\"#d8576b\"],[0.6666666666666666,\"#ed7953\"],[0.7777777777777778,\"#fb9f3a\"],[0.8888888888888888,\"#fdca26\"],[1.0,\"#f0f921\"]]},\"colorway\":[\"#636efa\",\"#EF553B\",\"#00cc96\",\"#ab63fa\",\"#FFA15A\",\"#19d3f3\",\"#FF6692\",\"#B6E880\",\"#FF97FF\",\"#FECB52\"],\"font\":{\"color\":\"#2a3f5f\"},\"geo\":{\"bgcolor\":\"white\",\"lakecolor\":\"white\",\"landcolor\":\"white\",\"showlakes\":true,\"showland\":true,\"subunitcolor\":\"#C8D4E3\"},\"hoverlabel\":{\"align\":\"left\"},\"hovermode\":\"closest\",\"mapbox\":{\"style\":\"light\"},\"paper_bgcolor\":\"white\",\"plot_bgcolor\":\"white\",\"polar\":{\"angularaxis\":{\"gridcolor\":\"#EBF0F8\",\"linecolor\":\"#EBF0F8\",\"ticks\":\"\"},\"bgcolor\":\"white\",\"radialaxis\":{\"gridcolor\":\"#EBF0F8\",\"linecolor\":\"#EBF0F8\",\"ticks\":\"\"}},\"scene\":{\"xaxis\":{\"backgroundcolor\":\"white\",\"gridcolor\":\"#DFE8F3\",\"gridwidth\":2,\"linecolor\":\"#EBF0F8\",\"showbackground\":true,\"ticks\":\"\",\"zerolinecolor\":\"#EBF0F8\"},\"yaxis\":{\"backgroundcolor\":\"white\",\"gridcolor\":\"#DFE8F3\",\"gridwidth\":2,\"linecolor\":\"#EBF0F8\",\"showbackground\":true,\"ticks\":\"\",\"zerolinecolor\":\"#EBF0F8\"},\"zaxis\":{\"backgroundcolor\":\"white\",\"gridcolor\":\"#DFE8F3\",\"gridwidth\":2,\"linecolor\":\"#EBF0F8\",\"showbackground\":true,\"ticks\":\"\",\"zerolinecolor\":\"#EBF0F8\"}},\"shapedefaults\":{\"line\":{\"color\":\"#2a3f5f\"}},\"ternary\":{\"aaxis\":{\"gridcolor\":\"#DFE8F3\",\"linecolor\":\"#A2B1C6\",\"ticks\":\"\"},\"baxis\":{\"gridcolor\":\"#DFE8F3\",\"linecolor\":\"#A2B1C6\",\"ticks\":\"\"},\"bgcolor\":\"white\",\"caxis\":{\"gridcolor\":\"#DFE8F3\",\"linecolor\":\"#A2B1C6\",\"ticks\":\"\"}},\"title\":{\"x\":0.05},\"xaxis\":{\"automargin\":true,\"gridcolor\":\"#EBF0F8\",\"linecolor\":\"#EBF0F8\",\"ticks\":\"\",\"title\":{\"standoff\":15},\"zerolinecolor\":\"#EBF0F8\",\"zerolinewidth\":2},\"yaxis\":{\"automargin\":true,\"gridcolor\":\"#EBF0F8\",\"linecolor\":\"#EBF0F8\",\"ticks\":\"\",\"title\":{\"standoff\":15},\"zerolinecolor\":\"#EBF0F8\",\"zerolinewidth\":2}}},\"title\":{\"text\":\"Distance Walking by Date\"},\"xaxis\":{\"title\":{\"text\":\"Date\"}},\"yaxis\":{\"title\":{\"text\":\"Distance (miles)\"}},\"height\":450},                        {\"responsive\": true}                    ).then(function(){\n",
       "                            \n",
       "var gd = document.getElementById('484b11ed-89e0-42fc-928a-e3106040cca2');\n",
       "var x = new MutationObserver(function (mutations, observer) {{\n",
       "        var display = window.getComputedStyle(gd).display;\n",
       "        if (!display || display === 'none') {{\n",
       "            console.log([gd, 'removed!']);\n",
       "            Plotly.purge(gd);\n",
       "            observer.disconnect();\n",
       "        }}\n",
       "}});\n",
       "\n",
       "// Listen for the removal of the full notebook cells\n",
       "var notebookContainer = gd.closest('#notebook-container');\n",
       "if (notebookContainer) {{\n",
       "    x.observe(notebookContainer, {childList: true});\n",
       "}}\n",
       "\n",
       "// Listen for the clearing of the current output cell\n",
       "var outputEl = gd.closest('.output');\n",
       "if (outputEl) {{\n",
       "    x.observe(outputEl, {childList: true});\n",
       "}}\n",
       "\n",
       "                        })                };                });            </script>        </div>"
      ]
     },
     "metadata": {},
     "output_type": "display_data"
    }
   ],
   "source": [
    "import plotly.graph_objects as go\n",
    "\n",
    "# Calculate average distance\n",
    "avg_distance = distance_daily['value'].mean()\n",
    "\n",
    "# Plot\n",
    "fig = go.Figure()\n",
    "\n",
    "# Main line: Distance Walking\n",
    "fig.add_trace(go.Scatter(\n",
    "    x=distance_daily['date'],\n",
    "    y=distance_daily['value'],\n",
    "    mode='lines+markers',\n",
    "    name='Distance Walking',\n",
    "    line=dict(color='mediumseagreen'),\n",
    "    hovertemplate='%{x|%b %d, %Y}<br>Distance: %{y:.2f} mi'\n",
    "))\n",
    "\n",
    "# Add average line\n",
    "fig.add_trace(go.Scatter(\n",
    "    x=[distance_daily['date'].min(), distance_daily['date'].max()],\n",
    "    y=[avg_distance, avg_distance],\n",
    "    mode='lines',\n",
    "    name='Average',\n",
    "    line=dict(color='firebrick', width=2, dash='dash'),\n",
    "    hovertemplate='Average: %{y:.2f} mi<extra></extra>'\n",
    "))\n",
    "\n",
    "# Layout\n",
    "fig.update_layout(\n",
    "    title='Distance Walking by Date',\n",
    "    xaxis_title='Date',\n",
    "    yaxis_title='Distance (miles)',\n",
    "    template='plotly_white',\n",
    "    height=450\n",
    ")\n",
    "\n",
    "fig.show()"
   ]
  },
  {
   "cell_type": "code",
   "execution_count": null,
   "id": "e582ea0c-8a95-4b1c-895e-a261aee20d4b",
   "metadata": {},
   "outputs": [],
   "source": []
  }
 ],
 "metadata": {
  "kernelspec": {
   "display_name": "Python [conda env:base] *",
   "language": "python",
   "name": "conda-base-py"
  },
  "language_info": {
   "codemirror_mode": {
    "name": "ipython",
    "version": 3
   },
   "file_extension": ".py",
   "mimetype": "text/x-python",
   "name": "python",
   "nbconvert_exporter": "python",
   "pygments_lexer": "ipython3",
   "version": "3.12.7"
  }
 },
 "nbformat": 4,
 "nbformat_minor": 5
}
