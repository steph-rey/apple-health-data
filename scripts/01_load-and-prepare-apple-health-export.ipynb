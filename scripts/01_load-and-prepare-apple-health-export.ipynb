{
 "cells": [
  {
   "cell_type": "code",
   "execution_count": 1,
   "id": "e6444d9b-62eb-4efe-b59f-a5ae8b18624d",
   "metadata": {},
   "outputs": [
    {
     "name": "stderr",
     "output_type": "stream",
     "text": [
      "Matplotlib is building the font cache; this may take a moment.\n"
     ]
    }
   ],
   "source": [
    "# Import packages\n",
    "\n",
    "import pandas as pd\n",
    "import xml.etree.ElementTree as ET\n",
    "from datetime import datetime"
   ]
  },
  {
   "cell_type": "code",
   "execution_count": 38,
   "id": "ce0b2ea6-85b4-4284-9613-0fb00cef61f7",
   "metadata": {},
   "outputs": [],
   "source": [
    "def clean_transform(df):\n",
    "    # Filter and immediately create a copy to avoid SettingWithCopyWarning\n",
    "    df = df[df['type'].str.contains('HKQuantityTypeIdentifier|HKWorkoutTypeIdentifier', na=False)].copy()\n",
    "    \n",
    "    # Convert dates\n",
    "    df['startDate'] = pd.to_datetime(df['startDate'])\n",
    "    df['endDate'] = pd.to_datetime(df['endDate'])\n",
    "\n",
    "    # Extract date parts\n",
    "    df['date'] = df['startDate'].dt.date\n",
    "    df['month'] = df['startDate'].dt.to_period('M')\n",
    "    df['year'] = df['startDate'].dt.year\n",
    "    df['weekday'] = df['startDate'].dt.day_name()\n",
    "\n",
    "    # Keep only necessary columns\n",
    "    keep_cols = ['type', 'sourceName', 'unit', 'value', 'startDate', 'endDate', 'date', 'month', 'year']\n",
    "    df = df[keep_cols]\n",
    "\n",
    "    # Extract readable workout/metric type name\n",
    "    df['workout_type'] = df['type'].str.extract(r'Identifier(.+)$')\n",
    "\n",
    "    # Ensure numeric values\n",
    "    df['value'] = pd.to_numeric(df['value'], errors='coerce')\n",
    "\n",
    "    return df"
   ]
  },
  {
   "cell_type": "code",
   "execution_count": 40,
   "id": "34c6350b-3cff-4589-891d-7b46ad0abb62",
   "metadata": {},
   "outputs": [
    {
     "name": "stderr",
     "output_type": "stream",
     "text": [
      "/var/folders/66/9mnm678944b64gn93ncc5cfw0000gp/T/ipykernel_48061/1789964194.py:11: UserWarning: Converting to PeriodArray/Index representation will drop timezone information.\n",
      "  df['month'] = df['startDate'].dt.to_period('M')\n"
     ]
    }
   ],
   "source": [
    "# Update with your actual file path\n",
    "xml_path = '/Users/steph/anaconda_projects/apple-health-data/raw-data/apple_health_export_2025-04-18/export.xml'\n",
    "df = load_and_prepare_health_data(xml_path)"
   ]
  },
  {
   "cell_type": "code",
   "execution_count": 41,
   "id": "da414301-a51d-41b0-b247-e590fd2f5644",
   "metadata": {},
   "outputs": [
    {
     "name": "stdout",
     "output_type": "stream",
     "text": [
      "<class 'pandas.core.frame.DataFrame'>\n",
      "Index: 9268187 entries, 0 to 9338868\n",
      "Data columns (total 10 columns):\n",
      " #   Column        Dtype                    \n",
      "---  ------        -----                    \n",
      " 0   type          object                   \n",
      " 1   sourceName    object                   \n",
      " 2   unit          object                   \n",
      " 3   value         float64                  \n",
      " 4   startDate     datetime64[ns, UTC-07:00]\n",
      " 5   endDate       datetime64[ns, UTC-07:00]\n",
      " 6   date          object                   \n",
      " 7   month         period[M]                \n",
      " 8   year          int32                    \n",
      " 9   workout_type  object                   \n",
      "dtypes: datetime64[ns, UTC-07:00](2), float64(1), int32(1), object(5), period[M](1)\n",
      "memory usage: 742.5+ MB\n"
     ]
    }
   ],
   "source": [
    "# Preview df\n",
    "df.head()\n",
    "df.info()"
   ]
  },
  {
   "cell_type": "code",
   "execution_count": null,
   "id": "05825bc6-e230-42e1-ae60-dbd67cb29487",
   "metadata": {},
   "outputs": [],
   "source": [
    "# Format current date to use in file path \n",
    "current_date = datetime.today().strftime('%Y-%m-%d')\n",
    "\n",
    "filename = f'/Users/steph/anaconda_projects/apple-health-data/cleaned-data/apple_health_data_full_export_{current_date}.csv'\n",
    "\n",
    "# Save as CSV\n",
    "df.to_csv(filename, index=False)"
   ]
  },
  {
   "cell_type": "code",
   "execution_count": null,
   "id": "a34043fc-7fd4-406e-a63b-0a52c66cb367",
   "metadata": {},
   "outputs": [],
   "source": []
  }
 ],
 "metadata": {
  "kernelspec": {
   "display_name": "Python [conda env:base] *",
   "language": "python",
   "name": "conda-base-py"
  },
  "language_info": {
   "codemirror_mode": {
    "name": "ipython",
    "version": 3
   },
   "file_extension": ".py",
   "mimetype": "text/x-python",
   "name": "python",
   "nbconvert_exporter": "python",
   "pygments_lexer": "ipython3",
   "version": "3.12.7"
  }
 },
 "nbformat": 4,
 "nbformat_minor": 5
}
